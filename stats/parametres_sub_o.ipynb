{
 "cells": [
  {
   "cell_type": "markdown",
   "source": [
    "# Oral paper subjects info\n",
    "- report n of female from original 39\n",
    "- report mean age from original 39"
   ],
   "metadata": {
    "collapsed": false
   },
   "id": "8ad055d1d7b58616"
  },
  {
   "cell_type": "code",
   "outputs": [],
   "source": [
    "import pandas as pd\n",
    "\n",
    "import os\n",
    "import sys\n",
    "import platform\n",
    "\n",
    "if platform.system()=='Darwin':\n",
    "    sys.path.append('/Users/leupinv/BBC/WP1/data/Code/python/BBC')\n",
    "    os.chdir('/Volumes/BBC/BBC/WP1/data/EEG/tsk/')\n",
    "\n",
    "\n",
    "\n",
    "elif platform.system()=='Windows':\n",
    "    os.chdir('Z:/BBC/WP1/data/EEG/tsk')\n",
    "    sys.path.append('E:/BBC/WP1/data/Code/python/BBC')\n",
    "    #os.chdir('c:/Users/Engi/all/BBC/WP1/data/EEG/tsk')\n",
    "elif platform.system()=='Linux':\n",
    "    os.chdir('/run/user/1000/gvfs/smb-share:server=bigdata,share=arts/Psycho/BBC/BBC/WP1/data/EEG/tsk')\n",
    "    #os.chdir('c:/Users/Engi/all/BBC/WP1/data/EEG/tsk')\n",
    "\n",
    "\n",
    "\n",
    "import matplotlib.pyplot as plt\n"
   ],
   "metadata": {
    "collapsed": false,
    "ExecuteTime": {
     "end_time": "2024-04-29T11:47:55.404070Z",
     "start_time": "2024-04-29T11:47:54.263396Z"
    }
   },
   "id": "6f234aa4e576ac15",
   "execution_count": 1
  },
  {
   "cell_type": "code",
   "outputs": [],
   "source": [
    "%load_ext autoreload\n",
    "\n",
    "\n",
    "%autoreload 2\n",
    "\n",
    "plt.style.use('default')\n",
    "import matplotlib as mpl\n",
    "\n",
    "plt.style.use('default')\n",
    "\n",
    "mpl.rcParams['svg.fonttype'] = 'none'\n",
    "mpl.rcParams['text.usetex'] = False\n"
   ],
   "metadata": {
    "collapsed": false,
    "ExecuteTime": {
     "end_time": "2024-04-29T11:47:55.514556Z",
     "start_time": "2024-04-29T11:47:55.404659Z"
    }
   },
   "id": "3f0170d54046e780",
   "execution_count": 2
  },
  {
   "cell_type": "markdown",
   "source": [
    "## Age information\n"
   ],
   "metadata": {
    "collapsed": false
   },
   "id": "e31d45fae23e2e18"
  },
  {
   "cell_type": "code",
   "outputs": [],
   "source": [
    "df= pd.read_csv('ana/behavioral/participant_info_quest.csv')"
   ],
   "metadata": {
    "collapsed": false,
    "ExecuteTime": {
     "end_time": "2024-04-29T11:55:10.825874Z",
     "start_time": "2024-04-29T11:55:10.728065Z"
    }
   },
   "id": "f092f532052a6690",
   "execution_count": 8
  },
  {
   "cell_type": "code",
   "outputs": [],
   "source": [
    "df_age=df.loc[(df['Participated_o']==1)]"
   ],
   "metadata": {
    "collapsed": false,
    "ExecuteTime": {
     "end_time": "2024-04-29T11:52:20.280976Z",
     "start_time": "2024-04-29T11:52:20.260497Z"
    }
   },
   "id": "927404ae0d7a1278",
   "execution_count": 4
  },
  {
   "cell_type": "code",
   "outputs": [
    {
     "data": {
      "text/plain": "count     39\nunique     2\ntop        F\nfreq      25\nName: Sexe: , dtype: object"
     },
     "execution_count": 5,
     "metadata": {},
     "output_type": "execute_result"
    }
   ],
   "source": [
    "df_age['Sexe: '].describe()"
   ],
   "metadata": {
    "collapsed": false,
    "ExecuteTime": {
     "end_time": "2024-04-29T11:52:22.930316Z",
     "start_time": "2024-04-29T11:52:22.910226Z"
    }
   },
   "id": "5a771ead62abc0f0",
   "execution_count": 5
  },
  {
   "cell_type": "code",
   "outputs": [
    {
     "data": {
      "text/plain": "count    39.000000\nmean     24.769231\nstd       5.085902\nmin      18.000000\n25%      22.000000\n50%      24.000000\n75%      26.000000\nmax      42.000000\nName: Age, dtype: float64"
     },
     "execution_count": 6,
     "metadata": {},
     "output_type": "execute_result"
    }
   ],
   "source": [
    "df_age['Age'].describe()"
   ],
   "metadata": {
    "collapsed": false,
    "ExecuteTime": {
     "end_time": "2024-04-29T11:53:12.607333Z",
     "start_time": "2024-04-29T11:53:12.583841Z"
    }
   },
   "id": "ad292c17a608e0d3",
   "execution_count": 6
  },
  {
   "cell_type": "code",
   "outputs": [],
   "source": [
    "df_age_30=df.loc[(df['Kept_n']==1)]"
   ],
   "metadata": {
    "collapsed": false,
    "ExecuteTime": {
     "end_time": "2024-04-29T11:55:18.501113Z",
     "start_time": "2024-04-29T11:55:18.487816Z"
    }
   },
   "id": "a86ec18ba2bd88b5",
   "execution_count": 9
  },
  {
   "cell_type": "code",
   "outputs": [
    {
     "data": {
      "text/plain": "count     30\nunique     2\ntop        F\nfreq      17\nName: Sexe: , dtype: object"
     },
     "execution_count": 10,
     "metadata": {},
     "output_type": "execute_result"
    }
   ],
   "source": [
    "df_age_30['Sexe: '].describe()"
   ],
   "metadata": {
    "collapsed": false,
    "ExecuteTime": {
     "end_time": "2024-04-29T11:55:43.355829Z",
     "start_time": "2024-04-29T11:55:43.336898Z"
    }
   },
   "id": "51b4860044efdd87",
   "execution_count": 10
  },
  {
   "cell_type": "code",
   "outputs": [
    {
     "data": {
      "text/plain": "count    30.000000\nmean     25.233333\nstd       5.424614\nmin      18.000000\n25%      22.000000\n50%      24.500000\n75%      26.000000\nmax      42.000000\nName: Age, dtype: float64"
     },
     "execution_count": 11,
     "metadata": {},
     "output_type": "execute_result"
    }
   ],
   "source": [
    "df_age_30['Age'].describe()"
   ],
   "metadata": {
    "collapsed": false,
    "ExecuteTime": {
     "end_time": "2024-04-29T11:55:58.989279Z",
     "start_time": "2024-04-29T11:55:58.964670Z"
    }
   },
   "id": "8956843f998d39b4",
   "execution_count": 11
  },
  {
   "cell_type": "code",
   "outputs": [],
   "source": [],
   "metadata": {
    "collapsed": false
   },
   "id": "74afcc368492d8dc"
  }
 ],
 "metadata": {
  "kernelspec": {
   "name": "mne",
   "language": "python",
   "display_name": "Python (mne)"
  },
  "language_info": {
   "codemirror_mode": {
    "name": "ipython",
    "version": 2
   },
   "file_extension": ".py",
   "mimetype": "text/x-python",
   "name": "python",
   "nbconvert_exporter": "python",
   "pygments_lexer": "ipython2",
   "version": "2.7.6"
  }
 },
 "nbformat": 4,
 "nbformat_minor": 5
}
