{
 "cells": [
  {
   "cell_type": "code",
   "execution_count": 1,
   "outputs": [],
   "source": [
    "import mne\n",
    "import pandas as pd\n",
    "import os\n",
    "\n",
    "import matplotlib.pyplot as plt\n",
    "\n",
    "\n",
    "import numpy as np\n",
    "import platform\n",
    "\n",
    "import sys\n",
    "if platform.system()=='Darwin':\n",
    "    os.chdir('/Volumes/BBC/BBC/WP1/data/EEG/tsk/')\n",
    "    sys.path.append('/Users/leupinv/BBC/WP1/data/Code/python/BBC')\n",
    "    #if this doesn't work pound line right above this, restart the kernel, rerun the cell.\n",
    "    #Then uncomment the same line and rerun\n",
    "\n",
    "else:\n",
    "    #os.chdir('Z:/BBC/WP1/data/EEG/tsk')\n",
    "    sys.path.append('C:/Users/Vivi/switchdrive/BBC/WP1/data/Code/python/BBC')\n",
    "    os.chdir('Z:/BBC/WP1/data/EEG/tsk')\n",
    "\n",
    "from base.files_in_out import GetFiles\n",
    "from stats.stats_helper import filter_list, tTest_ana, filter_list_equal\n",
    "import stats.stats_helper as s_hp\n"
   ],
   "metadata": {
    "collapsed": false,
    "ExecuteTime": {
     "end_time": "2025-02-17T13:01:47.782020600Z",
     "start_time": "2025-02-17T13:01:37.146324800Z"
    }
   }
  },
  {
   "cell_type": "code",
   "execution_count": 2,
   "outputs": [],
   "source": [
    "%load_ext autoreload\n",
    "%autoreload 2\n",
    "import matplotlib as mpl\n",
    "mpl.rcParams['svg.fonttype']='none'\n",
    "mpl.rcParams['text.usetex']=False\n",
    "plt.style.use('default')\n",
    "\n",
    "mpl.rcParams['svg.fonttype']='none'\n",
    "mpl.rcParams['text.usetex']=False"
   ],
   "metadata": {
    "collapsed": false,
    "ExecuteTime": {
     "end_time": "2025-02-17T13:01:47.914615900Z",
     "start_time": "2025-02-17T13:01:47.786021500Z"
    }
   }
  },
  {
   "cell_type": "code",
   "execution_count": 122,
   "outputs": [],
   "source": [
    "g_num=None\n",
    "eeg_format='-ave.fif'\n",
    "eeg_exp='tsk'\n",
    "datafolder='ana/MNE/evo_list'\n",
    "\n",
    "\n",
    "#files = getListOfFiles(datafolder,g_num)\n",
    "\n",
    "files = GetFiles(datafolder,g_num=g_num,eeg_format=eeg_format)\n",
    "\n",
    "evo_files=files.fflist"
   ],
   "metadata": {
    "collapsed": false,
    "ExecuteTime": {
     "end_time": "2025-02-17T16:41:55.242074600Z",
     "start_time": "2025-02-17T16:41:51.936553100Z"
    }
   }
  },
  {
   "cell_type": "markdown",
   "source": [
    "# Correlation RT and ERPs\n"
   ],
   "metadata": {
    "collapsed": false
   }
  },
  {
   "cell_type": "markdown",
   "source": [
    "## Load df with RT"
   ],
   "metadata": {
    "collapsed": false
   }
  },
  {
   "cell_type": "code",
   "execution_count": 96,
   "outputs": [],
   "source": [
    "# Load RT df\n",
    "path='ana/behavioral/df_o_cleantrials.feather'\n",
    "RT_df=pd.read_feather(path)"
   ],
   "metadata": {
    "collapsed": false,
    "ExecuteTime": {
     "end_time": "2025-02-17T15:12:31.547515700Z",
     "start_time": "2025-02-17T15:12:30.757945Z"
    }
   }
  },
  {
   "cell_type": "code",
   "execution_count": 97,
   "outputs": [],
   "source": [
    "# fitler only normal correct trials and end of the diastole\n",
    "RT_df=RT_df[RT_df['difficulty']== 'normal']\n",
    "\n",
    "RT_df=RT_df[RT_df['sys_mask']== 1]\n",
    "RT_df=RT_df[RT_df['accuracy']== 'correct']"
   ],
   "metadata": {
    "collapsed": false,
    "ExecuteTime": {
     "end_time": "2025-02-17T15:12:32.536736500Z",
     "start_time": "2025-02-17T15:12:32.404943200Z"
    }
   }
  },
  {
   "cell_type": "markdown",
   "source": [
    "## Define parameters for ERPs\n"
   ],
   "metadata": {
    "collapsed": false
   }
  },
  {
   "cell_type": "code",
   "execution_count": 98,
   "outputs": [],
   "source": [
    "picks_P1=['D32','A11','A12','A13','A14','A24','A25','A26','A27','B8','B9','B10']\n",
    "\n",
    "\n",
    "picks_P2=['A13','A14','A15','A23','A24','A25','A26','A27','A28']\n",
    "\n",
    "picks_VAN=['D32','A9','A10','A11','A12','A16','A15','A14','A13',\n",
    "           'A22','A23','A24','A25','A29','A28','A27','A26','B6','B7','B8','B9','B10']\n",
    "\n",
    "picks_P3a=['C11','C12','C13','C14','C15','C18','C19','C20','C21','C22','C25','C26','C27','C28','C32','D4']\n",
    "\n",
    "picks_P3b=['A2','A3','A4','A19','A20','A21','A22','A32','A31','A30','A29','A5','A18',\n",
    "          'A17','A16','A8','A9','A6','A7','D29','D30','D15','D16','D17','D28','D27']\n",
    "\n",
    "picks_dict=dict(p1=picks_P1,p2=picks_P2,VAN=picks_VAN,p3a=picks_P3a,p3b=picks_P3b)\n",
    "time_int_dict= dict(p1=[0.09,0.12],p2=[0.14,0.16],VAN=[0.24,0.32 ],p3a=[0.32,0.36],p3b=[0.4,0.5])"
   ],
   "metadata": {
    "collapsed": false,
    "ExecuteTime": {
     "end_time": "2025-02-17T15:12:34.376782900Z",
     "start_time": "2025-02-17T15:12:34.260772900Z"
    }
   }
  },
  {
   "cell_type": "markdown",
   "source": [
    "## Load ERP for condition"
   ],
   "metadata": {
    "collapsed": false
   }
  },
  {
   "cell_type": "code",
   "execution_count": 136,
   "outputs": [
    {
     "name": "stdout",
     "output_type": "stream",
     "text": [
      "ana/MNE/evo_list/maskON/mistake/nc/xns/norm/maskON_mistake_nc_xns_norm_unaware_sys_list-ave.fif\n",
      "Reading ana/MNE/evo_list/maskON/correct/cfa/vep/norm/tsk_o_maskON_correct_cfa_vep_norm_aware_sys_list-ave.fif ...\n",
      "    Read a total of 1 projection items:\n",
      "        Average EEG reference (1 x 128) active\n",
      "    Found the data of interest:\n",
      "        t =    -199.22 ...    1000.00 ms (0.42 × vep/normal/correct/aware/sys/exh + 0.58 × vep/normal/correct/aware/sys/inh\n",
      " G_n= g01)\n",
      "        0 CTF compensation matrices available\n",
      "        nave = 95 - aspect type = 100\n",
      "Projections have already been applied. Setting proj attribute to True.\n",
      "No baseline correction applied\n",
      "    Read a total of 1 projection items:\n",
      "        Average EEG reference (1 x 128) active\n",
      "    Found the data of interest:\n",
      "        t =    -199.22 ...    1000.00 ms (0.40 × vep/normal/correct/aware/sys/exh + 0.60 × vep/normal/correct/aware/sys/inh\n",
      " G_n= g03)\n",
      "        0 CTF compensation matrices available\n",
      "        nave = 121 - aspect type = 100\n",
      "Projections have already been applied. Setting proj attribute to True.\n",
      "No baseline correction applied\n",
      "    Read a total of 1 projection items:\n",
      "        Average EEG reference (1 x 128) active\n",
      "    Found the data of interest:\n",
      "        t =    -199.22 ...    1000.00 ms (0.41 × vep/normal/correct/aware/sys/exh + 0.59 × vep/normal/correct/aware/sys/inh\n",
      " G_n= g08)\n",
      "        0 CTF compensation matrices available\n",
      "        nave = 51 - aspect type = 100\n",
      "Projections have already been applied. Setting proj attribute to True.\n",
      "No baseline correction applied\n",
      "    Read a total of 1 projection items:\n",
      "        Average EEG reference (1 x 128) active\n",
      "    Found the data of interest:\n",
      "        t =    -199.22 ...    1000.00 ms (0.60 × vep/normal/correct/aware/sys/exh + 0.40 × vep/normal/correct/aware/sys/inh\n",
      " G_n= g10)\n",
      "        0 CTF compensation matrices available\n",
      "        nave = 100 - aspect type = 100\n",
      "Projections have already been applied. Setting proj attribute to True.\n",
      "No baseline correction applied\n",
      "    Read a total of 1 projection items:\n",
      "        Average EEG reference (1 x 128) active\n",
      "    Found the data of interest:\n",
      "        t =    -199.22 ...    1000.00 ms (0.57 × vep/normal/correct/aware/sys/exh + 0.43 × vep/normal/correct/aware/sys/inh\n",
      " G_n= g11)\n",
      "        0 CTF compensation matrices available\n",
      "        nave = 114 - aspect type = 100\n",
      "Projections have already been applied. Setting proj attribute to True.\n",
      "No baseline correction applied\n",
      "    Read a total of 1 projection items:\n",
      "        Average EEG reference (1 x 128) active\n",
      "    Found the data of interest:\n",
      "        t =    -199.22 ...    1000.00 ms (0.50 × vep/normal/correct/aware/sys/exh + 0.50 × vep/normal/correct/aware/sys/inh\n",
      " G_n= g12)\n",
      "        0 CTF compensation matrices available\n",
      "        nave = 128 - aspect type = 100\n",
      "Projections have already been applied. Setting proj attribute to True.\n",
      "No baseline correction applied\n",
      "    Read a total of 1 projection items:\n",
      "        Average EEG reference (1 x 128) active\n",
      "    Found the data of interest:\n",
      "        t =    -199.22 ...    1000.00 ms (0.47 × vep/normal/correct/aware/sys/exh + 0.53 × vep/normal/correct/aware/sys/inh\n",
      " G_n= g15)\n",
      "        0 CTF compensation matrices available\n",
      "        nave = 120 - aspect type = 100\n",
      "Projections have already been applied. Setting proj attribute to True.\n",
      "No baseline correction applied\n",
      "    Read a total of 1 projection items:\n",
      "        Average EEG reference (1 x 128) active\n",
      "    Found the data of interest:\n",
      "        t =    -199.22 ...    1000.00 ms (0.51 × vep/normal/correct/aware/sys/exh + 0.49 × vep/normal/correct/aware/sys/inh\n",
      " G_n= g16)\n",
      "        0 CTF compensation matrices available\n",
      "        nave = 114 - aspect type = 100\n",
      "Projections have already been applied. Setting proj attribute to True.\n",
      "No baseline correction applied\n",
      "    Read a total of 1 projection items:\n",
      "        Average EEG reference (1 x 128) active\n",
      "    Found the data of interest:\n",
      "        t =    -199.22 ...    1000.00 ms (0.25 × vep/normal/correct/aware/sys/exh + 0.75 × vep/normal/correct/aware/sys/inh\n",
      " G_n= g17)\n",
      "        0 CTF compensation matrices available\n",
      "        nave = 99 - aspect type = 100\n",
      "Projections have already been applied. Setting proj attribute to True.\n",
      "No baseline correction applied\n",
      "    Read a total of 1 projection items:\n",
      "        Average EEG reference (1 x 128) active\n",
      "    Found the data of interest:\n",
      "        t =    -199.22 ...    1000.00 ms (0.57 × vep/normal/correct/aware/sys/exh + 0.43 × vep/normal/correct/aware/sys/inh\n",
      " G_n= g19)\n",
      "        0 CTF compensation matrices available\n",
      "        nave = 111 - aspect type = 100\n",
      "Projections have already been applied. Setting proj attribute to True.\n",
      "No baseline correction applied\n",
      "    Read a total of 1 projection items:\n",
      "        Average EEG reference (1 x 128) active\n",
      "    Found the data of interest:\n",
      "        t =    -199.22 ...    1000.00 ms (0.61 × vep/normal/correct/aware/sys/exh + 0.39 × vep/normal/correct/aware/sys/inh\n",
      " G_n= g23)\n",
      "        0 CTF compensation matrices available\n",
      "        nave = 148 - aspect type = 100\n",
      "Projections have already been applied. Setting proj attribute to True.\n",
      "No baseline correction applied\n",
      "    Read a total of 1 projection items:\n",
      "        Average EEG reference (1 x 128) active\n",
      "    Found the data of interest:\n",
      "        t =    -199.22 ...    1000.00 ms (0.37 × vep/normal/correct/aware/sys/exh + 0.63 × vep/normal/correct/aware/sys/inh\n",
      " G_n= g24)\n",
      "        0 CTF compensation matrices available\n",
      "        nave = 156 - aspect type = 100\n",
      "Projections have already been applied. Setting proj attribute to True.\n",
      "No baseline correction applied\n",
      "    Read a total of 1 projection items:\n",
      "        Average EEG reference (1 x 128) active\n",
      "    Found the data of interest:\n",
      "        t =    -199.22 ...    1000.00 ms (0.55 × vep/normal/correct/aware/sys/exh + 0.45 × vep/normal/correct/aware/sys/inh\n",
      " G_n= g25)\n",
      "        0 CTF compensation matrices available\n",
      "        nave = 187 - aspect type = 100\n",
      "Projections have already been applied. Setting proj attribute to True.\n",
      "No baseline correction applied\n",
      "    Read a total of 1 projection items:\n",
      "        Average EEG reference (1 x 128) active\n",
      "    Found the data of interest:\n",
      "        t =    -199.22 ...    1000.00 ms (0.66 × vep/normal/correct/aware/sys/exh + 0.34 × vep/normal/correct/aware/sys/inh\n",
      " G_n= g28)\n",
      "        0 CTF compensation matrices available\n",
      "        nave = 105 - aspect type = 100\n",
      "Projections have already been applied. Setting proj attribute to True.\n",
      "No baseline correction applied\n",
      "    Read a total of 1 projection items:\n",
      "        Average EEG reference (1 x 128) active\n",
      "    Found the data of interest:\n",
      "        t =    -199.22 ...    1000.00 ms (0.59 × vep/normal/correct/aware/sys/exh + 0.41 × vep/normal/correct/aware/sys/inh\n",
      " G_n= g32)\n",
      "        0 CTF compensation matrices available\n",
      "        nave = 205 - aspect type = 100\n",
      "Projections have already been applied. Setting proj attribute to True.\n",
      "No baseline correction applied\n",
      "    Read a total of 1 projection items:\n",
      "        Average EEG reference (1 x 128) active\n",
      "    Found the data of interest:\n",
      "        t =    -199.22 ...    1000.00 ms (0.54 × vep/normal/correct/aware/sys/exh + 0.46 × vep/normal/correct/aware/sys/inh\n",
      " G_n= g33)\n",
      "        0 CTF compensation matrices available\n",
      "        nave = 124 - aspect type = 100\n",
      "Projections have already been applied. Setting proj attribute to True.\n",
      "No baseline correction applied\n",
      "    Read a total of 1 projection items:\n",
      "        Average EEG reference (1 x 128) active\n",
      "    Found the data of interest:\n",
      "        t =    -199.22 ...    1000.00 ms (0.58 × vep/normal/correct/aware/sys/exh + 0.42 × vep/normal/correct/aware/sys/inh\n",
      " G_n= g34)\n",
      "        0 CTF compensation matrices available\n",
      "        nave = 107 - aspect type = 100\n",
      "Projections have already been applied. Setting proj attribute to True.\n",
      "No baseline correction applied\n",
      "    Read a total of 1 projection items:\n",
      "        Average EEG reference (1 x 128) active\n",
      "    Found the data of interest:\n",
      "        t =    -199.22 ...    1000.00 ms (0.54 × vep/normal/correct/aware/sys/exh + 0.46 × vep/normal/correct/aware/sys/inh\n",
      " G_n= g37)\n",
      "        0 CTF compensation matrices available\n",
      "        nave = 106 - aspect type = 100\n",
      "Projections have already been applied. Setting proj attribute to True.\n",
      "No baseline correction applied\n",
      "    Read a total of 1 projection items:\n",
      "        Average EEG reference (1 x 128) active\n",
      "    Found the data of interest:\n",
      "        t =    -199.22 ...    1000.00 ms (0.57 × vep/normal/correct/aware/sys/exh + 0.43 × vep/normal/correct/aware/sys/inh\n",
      " G_n= g38)\n",
      "        0 CTF compensation matrices available\n",
      "        nave = 138 - aspect type = 100\n",
      "Projections have already been applied. Setting proj attribute to True.\n",
      "No baseline correction applied\n",
      "    Read a total of 1 projection items:\n",
      "        Average EEG reference (1 x 128) active\n",
      "    Found the data of interest:\n",
      "        t =    -199.22 ...    1000.00 ms (0.74 × vep/normal/correct/aware/sys/exh + 0.26 × vep/normal/correct/aware/sys/inh\n",
      " G_n= g39)\n",
      "        0 CTF compensation matrices available\n",
      "        nave = 95 - aspect type = 100\n",
      "Projections have already been applied. Setting proj attribute to True.\n",
      "No baseline correction applied\n",
      "    Read a total of 1 projection items:\n",
      "        Average EEG reference (1 x 128) active\n",
      "    Found the data of interest:\n",
      "        t =    -199.22 ...    1000.00 ms (0.65 × vep/normal/correct/aware/sys/exh + 0.35 × vep/normal/correct/aware/sys/inh\n",
      " G_n= g40)\n",
      "        0 CTF compensation matrices available\n",
      "        nave = 99 - aspect type = 100\n",
      "Projections have already been applied. Setting proj attribute to True.\n",
      "No baseline correction applied\n",
      "    Read a total of 1 projection items:\n",
      "        Average EEG reference (1 x 128) active\n",
      "    Found the data of interest:\n",
      "        t =    -199.22 ...    1000.00 ms (0.55 × vep/normal/correct/aware/sys/exh + 0.45 × vep/normal/correct/aware/sys/inh\n",
      " G_n= g41)\n",
      "        0 CTF compensation matrices available\n",
      "        nave = 150 - aspect type = 100\n",
      "Projections have already been applied. Setting proj attribute to True.\n",
      "No baseline correction applied\n",
      "    Read a total of 1 projection items:\n",
      "        Average EEG reference (1 x 128) active\n",
      "    Found the data of interest:\n",
      "        t =    -199.22 ...    1000.00 ms (0.47 × vep/normal/correct/aware/sys/exh + 0.53 × vep/normal/correct/aware/sys/inh\n",
      " G_n= g42)\n",
      "        0 CTF compensation matrices available\n",
      "        nave = 147 - aspect type = 100\n",
      "Projections have already been applied. Setting proj attribute to True.\n",
      "No baseline correction applied\n",
      "    Read a total of 1 projection items:\n",
      "        Average EEG reference (1 x 128) active\n",
      "    Found the data of interest:\n",
      "        t =    -199.22 ...    1000.00 ms (0.49 × vep/normal/correct/aware/sys/exh + 0.51 × vep/normal/correct/aware/sys/inh\n",
      " G_n= g44)\n",
      "        0 CTF compensation matrices available\n",
      "        nave = 124 - aspect type = 100\n",
      "Projections have already been applied. Setting proj attribute to True.\n",
      "No baseline correction applied\n",
      "    Read a total of 1 projection items:\n",
      "        Average EEG reference (1 x 128) active\n",
      "    Found the data of interest:\n",
      "        t =    -199.22 ...    1000.00 ms (0.59 × vep/normal/correct/aware/sys/exh + 0.41 × vep/normal/correct/aware/sys/inh\n",
      " G_n= g45)\n",
      "        0 CTF compensation matrices available\n",
      "        nave = 140 - aspect type = 100\n",
      "Projections have already been applied. Setting proj attribute to True.\n",
      "No baseline correction applied\n",
      "    Read a total of 1 projection items:\n",
      "        Average EEG reference (1 x 128) active\n",
      "    Found the data of interest:\n",
      "        t =    -199.22 ...    1000.00 ms (0.40 × vep/normal/correct/aware/sys/exh + 0.60 × vep/normal/correct/aware/sys/inh\n",
      " G_n= g46)\n",
      "        0 CTF compensation matrices available\n",
      "        nave = 116 - aspect type = 100\n",
      "Projections have already been applied. Setting proj attribute to True.\n",
      "No baseline correction applied\n",
      "    Read a total of 1 projection items:\n",
      "        Average EEG reference (1 x 128) active\n",
      "    Found the data of interest:\n",
      "        t =    -199.22 ...    1000.00 ms (0.53 × vep/normal/correct/aware/sys/exh + 0.47 × vep/normal/correct/aware/sys/inh\n",
      " G_n= g47)\n",
      "        0 CTF compensation matrices available\n",
      "        nave = 176 - aspect type = 100\n",
      "Projections have already been applied. Setting proj attribute to True.\n",
      "No baseline correction applied\n",
      "    Read a total of 1 projection items:\n",
      "        Average EEG reference (1 x 128) active\n",
      "    Found the data of interest:\n",
      "        t =    -199.22 ...    1000.00 ms (0.58 × vep/normal/correct/aware/sys/exh + 0.42 × vep/normal/correct/aware/sys/inh\n",
      " G_n= g49)\n",
      "        0 CTF compensation matrices available\n",
      "        nave = 163 - aspect type = 100\n",
      "Projections have already been applied. Setting proj attribute to True.\n",
      "No baseline correction applied\n",
      "    Read a total of 1 projection items:\n",
      "        Average EEG reference (1 x 128) active\n",
      "    Found the data of interest:\n",
      "        t =    -199.22 ...    1000.00 ms (0.56 × vep/normal/correct/aware/sys/exh + 0.44 × vep/normal/correct/aware/sys/inh\n",
      " G_n= g51)\n",
      "        0 CTF compensation matrices available\n",
      "        nave = 104 - aspect type = 100\n",
      "Projections have already been applied. Setting proj attribute to True.\n",
      "No baseline correction applied\n",
      "    Read a total of 1 projection items:\n",
      "        Average EEG reference (1 x 128) active\n",
      "    Found the data of interest:\n",
      "        t =    -199.22 ...    1000.00 ms (0.60 × vep/normal/correct/aware/sys/exh + 0.40 × vep/normal/correct/aware/sys/inh\n",
      " G_n= g52)\n",
      "        0 CTF compensation matrices available\n",
      "        nave = 206 - aspect type = 100\n",
      "Projections have already been applied. Setting proj attribute to True.\n",
      "No baseline correction applied\n"
     ]
    }
   ],
   "source": [
    "phy_cond='sys'\n",
    "awa_cond='aware'\n",
    "rsp_cond='o'\n",
    "if rsp_cond=='o':\n",
    "    rsp_cond_lab='tsk_o_'\n",
    "elif rsp_cond=='n':\n",
    "    rsp_cond_lab=''\n",
    "cond=mne.read_evokeds(filter_list_equal(evo_files,f'{rsp_cond_lab}maskON_correct_cfa_vep_norm_{awa_cond}_{phy_cond}_list'))\n"
   ],
   "metadata": {
    "collapsed": false,
    "ExecuteTime": {
     "end_time": "2025-02-17T16:44:45.595243700Z",
     "start_time": "2025-02-17T16:44:43.229545100Z"
    }
   }
  },
  {
   "cell_type": "code",
   "execution_count": 137,
   "outputs": [
    {
     "data": {
      "text/plain": "{'p1': [-9.628389042726226e-07,\n  7.361367679245042e-06,\n  -3.2051142547907652e-06,\n  -9.523147973574716e-07,\n  5.396972721764352e-06,\n  3.408530608708218e-07,\n  3.386605109135922e-06,\n  4.384336648399767e-06,\n  4.879754864283035e-06,\n  7.23424185990864e-06,\n  4.828490605535552e-06,\n  4.841203350565067e-06,\n  5.361794525737407e-07,\n  3.7430010076409693e-06,\n  1.926477953721699e-06,\n  3.0463326649062857e-06,\n  2.0467772694816916e-06,\n  4.36361194812286e-06,\n  -1.0322786216931945e-06,\n  9.27247215490415e-06,\n  1.3109710359843824e-06,\n  5.9535982704464574e-06,\n  8.034454244954793e-06,\n  7.946773796045173e-06,\n  1.5506097980323965e-06,\n  3.772162752001828e-06,\n  4.159766836698543e-06,\n  5.191268169508274e-06,\n  1.313906085758592e-05,\n  4.395978449437358e-06],\n 'p2': [2.9318927122151054e-06,\n  7.826538148105169e-06,\n  -2.0819276205271727e-07,\n  2.5891667529317936e-06,\n  -8.108459484093247e-09,\n  4.180624545016245e-06,\n  8.534281564438802e-06,\n  3.4192119623863044e-06,\n  7.880736823743198e-06,\n  -2.286545166212077e-06,\n  -6.959750132717056e-06,\n  3.0857090046753364e-06,\n  2.825091002122014e-07,\n  5.855049275177643e-06,\n  6.646608102090357e-06,\n  -3.737189068168071e-07,\n  -1.6008660483161445e-06,\n  1.166307115201764e-05,\n  7.889901923961049e-06,\n  7.892016734937593e-06,\n  1.8230127770485289e-06,\n  9.934258042886978e-06,\n  3.4249195645467503e-06,\n  1.2754357663248407e-05,\n  7.387233920410465e-06,\n  -6.037434388872498e-06,\n  6.624557407256496e-06,\n  6.343074982463871e-06,\n  1.7468804977693463e-06,\n  8.85669207030383e-06],\n 'VAN': [-9.667400469056152e-07,\n  -9.759334670042737e-07,\n  1.0007091417534363e-06,\n  1.2956965062304323e-06,\n  -1.3115624103397702e-06,\n  -5.61717102677447e-07,\n  1.2190628152488321e-08,\n  -1.604334244230869e-06,\n  -8.50993214609812e-06,\n  -7.095456751699027e-06,\n  -4.566272547946716e-06,\n  5.087168986359379e-06,\n  -4.324877612880893e-06,\n  -1.4733265599083604e-07,\n  1.995454719668988e-06,\n  -1.8605388121097066e-06,\n  5.101513171082313e-07,\n  -3.7346524457800964e-06,\n  -2.342482745156052e-06,\n  1.207485556095645e-06,\n  -1.6958866981023588e-06,\n  -1.742860311485214e-06,\n  -3.9984057192020426e-06,\n  -6.219835469176539e-06,\n  2.632620912050083e-06,\n  2.8590722623009697e-07,\n  1.8463573128070038e-07,\n  -3.587062463384815e-06,\n  -2.1810991184284303e-06,\n  2.9656783692894363e-07],\n 'p3a': [-8.049807846663174e-07,\n  3.413962673721132e-07,\n  -4.082294448179172e-06,\n  3.65902366884143e-08,\n  1.171954182325892e-06,\n  -6.773648152279644e-07,\n  -1.8110557816651929e-06,\n  -2.5807552895122527e-06,\n  5.923362381436577e-06,\n  1.3229030478189119e-06,\n  2.1498074703852796e-06,\n  -5.805868954085596e-07,\n  9.48218573811181e-07,\n  -4.921852351138436e-08,\n  7.056682468263954e-07,\n  -9.986539940200843e-08,\n  9.23040504416636e-07,\n  2.4745840915779187e-06,\n  2.986038112531084e-06,\n  -2.6948995988298274e-06,\n  1.0856918724852251e-06,\n  -5.212084648295338e-07,\n  3.316185418060376e-07,\n  -5.614558980111943e-07,\n  1.3890711039592092e-06,\n  -2.1873297014915725e-06,\n  -1.5332356058712031e-06,\n  2.3019181707036167e-06,\n  -2.293012105300151e-06,\n  -3.215879252527703e-07],\n 'p3b': [1.5874570333756406e-06,\n  -2.606750885581281e-08,\n  5.252904872578642e-06,\n  4.853533244245351e-07,\n  2.955179065525424e-06,\n  1.915894428554969e-06,\n  2.2811057112012962e-06,\n  2.002415480792852e-06,\n  7.082539428638329e-07,\n  4.781289987294148e-07,\n  8.782884827209121e-07,\n  2.615685647715609e-06,\n  3.1767289793424984e-06,\n  3.0120721936726184e-06,\n  4.723885193276786e-07,\n  8.508225960966601e-07,\n  3.3505460049167476e-07,\n  4.6786391438087537e-07,\n  2.571166361684599e-07,\n  3.027330605872705e-06,\n  5.579809982333754e-07,\n  1.2047581487566385e-06,\n  1.3168856301384118e-06,\n  2.2227143311595595e-07,\n  2.7927774250277616e-07,\n  1.4263502444942208e-06,\n  2.493432905781396e-06,\n  1.8295378901023964e-06,\n  1.4767060223595392e-06,\n  -1.1111180264464662e-06],\n 'g_num': ['g01',\n  'g03',\n  'g08',\n  'g10',\n  'g11',\n  'g12',\n  'g15',\n  'g16',\n  'g17',\n  'g19',\n  'g23',\n  'g24',\n  'g25',\n  'g28',\n  'g32',\n  'g33',\n  'g34',\n  'g37',\n  'g38',\n  'g39',\n  'g40',\n  'g41',\n  'g42',\n  'g44',\n  'g45',\n  'g46',\n  'g47',\n  'g49',\n  'g51',\n  'g52']}"
     },
     "execution_count": 137,
     "metadata": {},
     "output_type": "execute_result"
    }
   ],
   "source": [
    "# Main loop to extract average potential around defined compoenents\n",
    "dict_df={}\n",
    "#loop around dict with picked electrodes\n",
    "for k,item in picks_dict.items():\n",
    "    #predefine list for g numbers and amplitude data\n",
    "    list_g_num=[]\n",
    "    list_avg_data=[]\n",
    "\n",
    "    for erp_g in cond:\n",
    "        #store info on time interval\n",
    "        time_int=time_int_dict[k]\n",
    "        #extract both time interval and electrodes\n",
    "        erp_data=erp_g.copy().crop(time_int[0],time_int[1]).pick_channels(item).data\n",
    "        #compute average from filtered ERP data\n",
    "        avg_data=np.average(erp_data)\n",
    "        #append data to list\n",
    "        list_avg_data.append(avg_data)\n",
    "        # append g_num to list\n",
    "        g_num=erp_g.comment[-3:]\n",
    "        list_g_num.append(g_num)\n",
    "    #assign complete list to dict with componenet as key\n",
    "    dict_df[k]=list_avg_data\n",
    "# assign g_num list to dict\n",
    "dict_df['g_num']=list_g_num\n",
    "dict_df"
   ],
   "metadata": {
    "collapsed": false,
    "ExecuteTime": {
     "end_time": "2025-02-17T16:44:46.027997700Z",
     "start_time": "2025-02-17T16:44:45.595243700Z"
    }
   }
  },
  {
   "cell_type": "code",
   "execution_count": 138,
   "outputs": [],
   "source": [
    "#create pd dataframe from dict\n",
    "pd_df=pd.DataFrame.from_dict(dict_df)"
   ],
   "metadata": {
    "collapsed": false,
    "ExecuteTime": {
     "end_time": "2025-02-17T16:44:46.108113300Z",
     "start_time": "2025-02-17T16:44:45.996747100Z"
    }
   }
  },
  {
   "cell_type": "code",
   "execution_count": 139,
   "outputs": [
    {
     "data": {
      "text/plain": "              p1            p2           VAN           p3a           p3b g_num\n0  -9.628389e-07  2.931893e-06 -9.667400e-07 -8.049808e-07  1.587457e-06   g01\n1   7.361368e-06  7.826538e-06 -9.759335e-07  3.413963e-07 -2.606751e-08   g03\n2  -3.205114e-06 -2.081928e-07  1.000709e-06 -4.082294e-06  5.252905e-06   g08\n3  -9.523148e-07  2.589167e-06  1.295697e-06  3.659024e-08  4.853533e-07   g10\n4   5.396973e-06 -8.108459e-09 -1.311562e-06  1.171954e-06  2.955179e-06   g11\n5   3.408531e-07  4.180625e-06 -5.617171e-07 -6.773648e-07  1.915894e-06   g12\n6   3.386605e-06  8.534282e-06  1.219063e-08 -1.811056e-06  2.281106e-06   g15\n7   4.384337e-06  3.419212e-06 -1.604334e-06 -2.580755e-06  2.002415e-06   g16\n8   4.879755e-06  7.880737e-06 -8.509932e-06  5.923362e-06  7.082539e-07   g17\n9   7.234242e-06 -2.286545e-06 -7.095457e-06  1.322903e-06  4.781290e-07   g19\n10  4.828491e-06 -6.959750e-06 -4.566273e-06  2.149807e-06  8.782885e-07   g23\n11  4.841203e-06  3.085709e-06  5.087169e-06 -5.805869e-07  2.615686e-06   g24\n12  5.361795e-07  2.825091e-07 -4.324878e-06  9.482186e-07  3.176729e-06   g25\n13  3.743001e-06  5.855049e-06 -1.473327e-07 -4.921852e-08  3.012072e-06   g28\n14  1.926478e-06  6.646608e-06  1.995455e-06  7.056682e-07  4.723885e-07   g32\n15  3.046333e-06 -3.737189e-07 -1.860539e-06 -9.986540e-08  8.508226e-07   g33\n16  2.046777e-06 -1.600866e-06  5.101513e-07  9.230405e-07  3.350546e-07   g34\n17  4.363612e-06  1.166307e-05 -3.734652e-06  2.474584e-06  4.678639e-07   g37\n18 -1.032279e-06  7.889902e-06 -2.342483e-06  2.986038e-06  2.571166e-07   g38\n19  9.272472e-06  7.892017e-06  1.207486e-06 -2.694900e-06  3.027331e-06   g39\n20  1.310971e-06  1.823013e-06 -1.695887e-06  1.085692e-06  5.579810e-07   g40\n21  5.953598e-06  9.934258e-06 -1.742860e-06 -5.212085e-07  1.204758e-06   g41\n22  8.034454e-06  3.424920e-06 -3.998406e-06  3.316185e-07  1.316886e-06   g42\n23  7.946774e-06  1.275436e-05 -6.219835e-06 -5.614559e-07  2.222714e-07   g44\n24  1.550610e-06  7.387234e-06  2.632621e-06  1.389071e-06  2.792777e-07   g45\n25  3.772163e-06 -6.037434e-06  2.859072e-07 -2.187330e-06  1.426350e-06   g46\n26  4.159767e-06  6.624557e-06  1.846357e-07 -1.533236e-06  2.493433e-06   g47\n27  5.191268e-06  6.343075e-06 -3.587062e-06  2.301918e-06  1.829538e-06   g49\n28  1.313906e-05  1.746880e-06 -2.181099e-06 -2.293012e-06  1.476706e-06   g51\n29  4.395978e-06  8.856692e-06  2.965678e-07 -3.215879e-07 -1.111118e-06   g52",
      "text/html": "<div>\n<style scoped>\n    .dataframe tbody tr th:only-of-type {\n        vertical-align: middle;\n    }\n\n    .dataframe tbody tr th {\n        vertical-align: top;\n    }\n\n    .dataframe thead th {\n        text-align: right;\n    }\n</style>\n<table border=\"1\" class=\"dataframe\">\n  <thead>\n    <tr style=\"text-align: right;\">\n      <th></th>\n      <th>p1</th>\n      <th>p2</th>\n      <th>VAN</th>\n      <th>p3a</th>\n      <th>p3b</th>\n      <th>g_num</th>\n    </tr>\n  </thead>\n  <tbody>\n    <tr>\n      <th>0</th>\n      <td>-9.628389e-07</td>\n      <td>2.931893e-06</td>\n      <td>-9.667400e-07</td>\n      <td>-8.049808e-07</td>\n      <td>1.587457e-06</td>\n      <td>g01</td>\n    </tr>\n    <tr>\n      <th>1</th>\n      <td>7.361368e-06</td>\n      <td>7.826538e-06</td>\n      <td>-9.759335e-07</td>\n      <td>3.413963e-07</td>\n      <td>-2.606751e-08</td>\n      <td>g03</td>\n    </tr>\n    <tr>\n      <th>2</th>\n      <td>-3.205114e-06</td>\n      <td>-2.081928e-07</td>\n      <td>1.000709e-06</td>\n      <td>-4.082294e-06</td>\n      <td>5.252905e-06</td>\n      <td>g08</td>\n    </tr>\n    <tr>\n      <th>3</th>\n      <td>-9.523148e-07</td>\n      <td>2.589167e-06</td>\n      <td>1.295697e-06</td>\n      <td>3.659024e-08</td>\n      <td>4.853533e-07</td>\n      <td>g10</td>\n    </tr>\n    <tr>\n      <th>4</th>\n      <td>5.396973e-06</td>\n      <td>-8.108459e-09</td>\n      <td>-1.311562e-06</td>\n      <td>1.171954e-06</td>\n      <td>2.955179e-06</td>\n      <td>g11</td>\n    </tr>\n    <tr>\n      <th>5</th>\n      <td>3.408531e-07</td>\n      <td>4.180625e-06</td>\n      <td>-5.617171e-07</td>\n      <td>-6.773648e-07</td>\n      <td>1.915894e-06</td>\n      <td>g12</td>\n    </tr>\n    <tr>\n      <th>6</th>\n      <td>3.386605e-06</td>\n      <td>8.534282e-06</td>\n      <td>1.219063e-08</td>\n      <td>-1.811056e-06</td>\n      <td>2.281106e-06</td>\n      <td>g15</td>\n    </tr>\n    <tr>\n      <th>7</th>\n      <td>4.384337e-06</td>\n      <td>3.419212e-06</td>\n      <td>-1.604334e-06</td>\n      <td>-2.580755e-06</td>\n      <td>2.002415e-06</td>\n      <td>g16</td>\n    </tr>\n    <tr>\n      <th>8</th>\n      <td>4.879755e-06</td>\n      <td>7.880737e-06</td>\n      <td>-8.509932e-06</td>\n      <td>5.923362e-06</td>\n      <td>7.082539e-07</td>\n      <td>g17</td>\n    </tr>\n    <tr>\n      <th>9</th>\n      <td>7.234242e-06</td>\n      <td>-2.286545e-06</td>\n      <td>-7.095457e-06</td>\n      <td>1.322903e-06</td>\n      <td>4.781290e-07</td>\n      <td>g19</td>\n    </tr>\n    <tr>\n      <th>10</th>\n      <td>4.828491e-06</td>\n      <td>-6.959750e-06</td>\n      <td>-4.566273e-06</td>\n      <td>2.149807e-06</td>\n      <td>8.782885e-07</td>\n      <td>g23</td>\n    </tr>\n    <tr>\n      <th>11</th>\n      <td>4.841203e-06</td>\n      <td>3.085709e-06</td>\n      <td>5.087169e-06</td>\n      <td>-5.805869e-07</td>\n      <td>2.615686e-06</td>\n      <td>g24</td>\n    </tr>\n    <tr>\n      <th>12</th>\n      <td>5.361795e-07</td>\n      <td>2.825091e-07</td>\n      <td>-4.324878e-06</td>\n      <td>9.482186e-07</td>\n      <td>3.176729e-06</td>\n      <td>g25</td>\n    </tr>\n    <tr>\n      <th>13</th>\n      <td>3.743001e-06</td>\n      <td>5.855049e-06</td>\n      <td>-1.473327e-07</td>\n      <td>-4.921852e-08</td>\n      <td>3.012072e-06</td>\n      <td>g28</td>\n    </tr>\n    <tr>\n      <th>14</th>\n      <td>1.926478e-06</td>\n      <td>6.646608e-06</td>\n      <td>1.995455e-06</td>\n      <td>7.056682e-07</td>\n      <td>4.723885e-07</td>\n      <td>g32</td>\n    </tr>\n    <tr>\n      <th>15</th>\n      <td>3.046333e-06</td>\n      <td>-3.737189e-07</td>\n      <td>-1.860539e-06</td>\n      <td>-9.986540e-08</td>\n      <td>8.508226e-07</td>\n      <td>g33</td>\n    </tr>\n    <tr>\n      <th>16</th>\n      <td>2.046777e-06</td>\n      <td>-1.600866e-06</td>\n      <td>5.101513e-07</td>\n      <td>9.230405e-07</td>\n      <td>3.350546e-07</td>\n      <td>g34</td>\n    </tr>\n    <tr>\n      <th>17</th>\n      <td>4.363612e-06</td>\n      <td>1.166307e-05</td>\n      <td>-3.734652e-06</td>\n      <td>2.474584e-06</td>\n      <td>4.678639e-07</td>\n      <td>g37</td>\n    </tr>\n    <tr>\n      <th>18</th>\n      <td>-1.032279e-06</td>\n      <td>7.889902e-06</td>\n      <td>-2.342483e-06</td>\n      <td>2.986038e-06</td>\n      <td>2.571166e-07</td>\n      <td>g38</td>\n    </tr>\n    <tr>\n      <th>19</th>\n      <td>9.272472e-06</td>\n      <td>7.892017e-06</td>\n      <td>1.207486e-06</td>\n      <td>-2.694900e-06</td>\n      <td>3.027331e-06</td>\n      <td>g39</td>\n    </tr>\n    <tr>\n      <th>20</th>\n      <td>1.310971e-06</td>\n      <td>1.823013e-06</td>\n      <td>-1.695887e-06</td>\n      <td>1.085692e-06</td>\n      <td>5.579810e-07</td>\n      <td>g40</td>\n    </tr>\n    <tr>\n      <th>21</th>\n      <td>5.953598e-06</td>\n      <td>9.934258e-06</td>\n      <td>-1.742860e-06</td>\n      <td>-5.212085e-07</td>\n      <td>1.204758e-06</td>\n      <td>g41</td>\n    </tr>\n    <tr>\n      <th>22</th>\n      <td>8.034454e-06</td>\n      <td>3.424920e-06</td>\n      <td>-3.998406e-06</td>\n      <td>3.316185e-07</td>\n      <td>1.316886e-06</td>\n      <td>g42</td>\n    </tr>\n    <tr>\n      <th>23</th>\n      <td>7.946774e-06</td>\n      <td>1.275436e-05</td>\n      <td>-6.219835e-06</td>\n      <td>-5.614559e-07</td>\n      <td>2.222714e-07</td>\n      <td>g44</td>\n    </tr>\n    <tr>\n      <th>24</th>\n      <td>1.550610e-06</td>\n      <td>7.387234e-06</td>\n      <td>2.632621e-06</td>\n      <td>1.389071e-06</td>\n      <td>2.792777e-07</td>\n      <td>g45</td>\n    </tr>\n    <tr>\n      <th>25</th>\n      <td>3.772163e-06</td>\n      <td>-6.037434e-06</td>\n      <td>2.859072e-07</td>\n      <td>-2.187330e-06</td>\n      <td>1.426350e-06</td>\n      <td>g46</td>\n    </tr>\n    <tr>\n      <th>26</th>\n      <td>4.159767e-06</td>\n      <td>6.624557e-06</td>\n      <td>1.846357e-07</td>\n      <td>-1.533236e-06</td>\n      <td>2.493433e-06</td>\n      <td>g47</td>\n    </tr>\n    <tr>\n      <th>27</th>\n      <td>5.191268e-06</td>\n      <td>6.343075e-06</td>\n      <td>-3.587062e-06</td>\n      <td>2.301918e-06</td>\n      <td>1.829538e-06</td>\n      <td>g49</td>\n    </tr>\n    <tr>\n      <th>28</th>\n      <td>1.313906e-05</td>\n      <td>1.746880e-06</td>\n      <td>-2.181099e-06</td>\n      <td>-2.293012e-06</td>\n      <td>1.476706e-06</td>\n      <td>g51</td>\n    </tr>\n    <tr>\n      <th>29</th>\n      <td>4.395978e-06</td>\n      <td>8.856692e-06</td>\n      <td>2.965678e-07</td>\n      <td>-3.215879e-07</td>\n      <td>-1.111118e-06</td>\n      <td>g52</td>\n    </tr>\n  </tbody>\n</table>\n</div>"
     },
     "execution_count": 139,
     "metadata": {},
     "output_type": "execute_result"
    }
   ],
   "source": [
    "pd_df"
   ],
   "metadata": {
    "collapsed": false,
    "ExecuteTime": {
     "end_time": "2025-02-17T16:44:46.217700200Z",
     "start_time": "2025-02-17T16:44:46.108113300Z"
    }
   }
  },
  {
   "cell_type": "markdown",
   "source": [
    "## Filter RT df and create df with averaged RT for each subject"
   ],
   "metadata": {
    "collapsed": false
   }
  },
  {
   "cell_type": "code",
   "execution_count": 140,
   "outputs": [
    {
     "name": "stdout",
     "output_type": "stream",
     "text": [
      "includes only aware\n",
      "includes only sys\n"
     ]
    },
    {
     "data": {
      "text/plain": "                RT\ng_num             \ng01     762.496588\ng03     853.517749\ng08     849.946961\ng10     872.992785\ng11     590.471765\ng12     719.516085\ng15     792.158826\ng16     638.724513\ng17     837.130160\ng19     657.792286\ng23     640.046875\ng24     584.672653\ng25     681.315922\ng28     872.114910\ng32     847.972386\ng33     827.264009\ng34     994.809576\ng37     903.880663\ng38     810.945312\ng39    1519.456865\ng40    1734.624767\ng41     842.308642\ng42    1027.138166\ng44    1752.598869\ng45    1086.814541\ng46     594.173534\ng47     862.781516\ng49     716.978798\ng51     702.292169\ng52     630.219129",
      "text/html": "<div>\n<style scoped>\n    .dataframe tbody tr th:only-of-type {\n        vertical-align: middle;\n    }\n\n    .dataframe tbody tr th {\n        vertical-align: top;\n    }\n\n    .dataframe thead th {\n        text-align: right;\n    }\n</style>\n<table border=\"1\" class=\"dataframe\">\n  <thead>\n    <tr style=\"text-align: right;\">\n      <th></th>\n      <th>RT</th>\n    </tr>\n    <tr>\n      <th>g_num</th>\n      <th></th>\n    </tr>\n  </thead>\n  <tbody>\n    <tr>\n      <th>g01</th>\n      <td>762.496588</td>\n    </tr>\n    <tr>\n      <th>g03</th>\n      <td>853.517749</td>\n    </tr>\n    <tr>\n      <th>g08</th>\n      <td>849.946961</td>\n    </tr>\n    <tr>\n      <th>g10</th>\n      <td>872.992785</td>\n    </tr>\n    <tr>\n      <th>g11</th>\n      <td>590.471765</td>\n    </tr>\n    <tr>\n      <th>g12</th>\n      <td>719.516085</td>\n    </tr>\n    <tr>\n      <th>g15</th>\n      <td>792.158826</td>\n    </tr>\n    <tr>\n      <th>g16</th>\n      <td>638.724513</td>\n    </tr>\n    <tr>\n      <th>g17</th>\n      <td>837.130160</td>\n    </tr>\n    <tr>\n      <th>g19</th>\n      <td>657.792286</td>\n    </tr>\n    <tr>\n      <th>g23</th>\n      <td>640.046875</td>\n    </tr>\n    <tr>\n      <th>g24</th>\n      <td>584.672653</td>\n    </tr>\n    <tr>\n      <th>g25</th>\n      <td>681.315922</td>\n    </tr>\n    <tr>\n      <th>g28</th>\n      <td>872.114910</td>\n    </tr>\n    <tr>\n      <th>g32</th>\n      <td>847.972386</td>\n    </tr>\n    <tr>\n      <th>g33</th>\n      <td>827.264009</td>\n    </tr>\n    <tr>\n      <th>g34</th>\n      <td>994.809576</td>\n    </tr>\n    <tr>\n      <th>g37</th>\n      <td>903.880663</td>\n    </tr>\n    <tr>\n      <th>g38</th>\n      <td>810.945312</td>\n    </tr>\n    <tr>\n      <th>g39</th>\n      <td>1519.456865</td>\n    </tr>\n    <tr>\n      <th>g40</th>\n      <td>1734.624767</td>\n    </tr>\n    <tr>\n      <th>g41</th>\n      <td>842.308642</td>\n    </tr>\n    <tr>\n      <th>g42</th>\n      <td>1027.138166</td>\n    </tr>\n    <tr>\n      <th>g44</th>\n      <td>1752.598869</td>\n    </tr>\n    <tr>\n      <th>g45</th>\n      <td>1086.814541</td>\n    </tr>\n    <tr>\n      <th>g46</th>\n      <td>594.173534</td>\n    </tr>\n    <tr>\n      <th>g47</th>\n      <td>862.781516</td>\n    </tr>\n    <tr>\n      <th>g49</th>\n      <td>716.978798</td>\n    </tr>\n    <tr>\n      <th>g51</th>\n      <td>702.292169</td>\n    </tr>\n    <tr>\n      <th>g52</th>\n      <td>630.219129</td>\n    </tr>\n  </tbody>\n</table>\n</div>"
     },
     "execution_count": 140,
     "metadata": {},
     "output_type": "execute_result"
    }
   ],
   "source": [
    "# this code filters df based on the preselected condition (used also to load erps to avoid issues)\n",
    "if awa_cond !='':\n",
    "    RT_df_cond=RT_df[RT_df['awareness']==awa_cond]\n",
    "    print(f'includes only {awa_cond}')\n",
    "else:\n",
    "    print(f'includes all awareness')\n",
    "\n",
    "if phy_cond!='':\n",
    "    if phy_cond =='sys' or phy_cond =='dia':\n",
    "        RT_df_cond=RT_df[RT_df['cardiac_phase']==phy_cond]\n",
    "        print(f'includes only {phy_cond}')\n",
    "    else:\n",
    "        RT_df_cond=RT_df[RT_df['rsp_phase']==phy_cond]\n",
    "        print(f'includes only {phy_cond}')\n",
    "else:\n",
    "    print(f'includes all phy cond')\n",
    "\n",
    "\n",
    "pivot_RT_df=pd.pivot_table(RT_df_cond,index=['g_num'],values='RT')\n",
    "pivot_RT_df"
   ],
   "metadata": {
    "collapsed": false,
    "ExecuteTime": {
     "end_time": "2025-02-17T16:44:48.315142700Z",
     "start_time": "2025-02-17T16:44:48.194890400Z"
    }
   }
  },
  {
   "cell_type": "markdown",
   "source": [
    "## Combine ERP and RT df to correlate"
   ],
   "metadata": {
    "collapsed": false
   }
  },
  {
   "cell_type": "code",
   "execution_count": 141,
   "outputs": [
    {
     "data": {
      "text/plain": "   g_num           RT            p1            p2           VAN           p3a  \\\n0    g01   762.496588 -9.628389e-07  2.931893e-06 -9.667400e-07 -8.049808e-07   \n1    g03   853.517749  7.361368e-06  7.826538e-06 -9.759335e-07  3.413963e-07   \n2    g08   849.946961 -3.205114e-06 -2.081928e-07  1.000709e-06 -4.082294e-06   \n3    g10   872.992785 -9.523148e-07  2.589167e-06  1.295697e-06  3.659024e-08   \n4    g11   590.471765  5.396973e-06 -8.108459e-09 -1.311562e-06  1.171954e-06   \n5    g12   719.516085  3.408531e-07  4.180625e-06 -5.617171e-07 -6.773648e-07   \n6    g15   792.158826  3.386605e-06  8.534282e-06  1.219063e-08 -1.811056e-06   \n7    g16   638.724513  4.384337e-06  3.419212e-06 -1.604334e-06 -2.580755e-06   \n8    g17   837.130160  4.879755e-06  7.880737e-06 -8.509932e-06  5.923362e-06   \n9    g19   657.792286  7.234242e-06 -2.286545e-06 -7.095457e-06  1.322903e-06   \n10   g23   640.046875  4.828491e-06 -6.959750e-06 -4.566273e-06  2.149807e-06   \n11   g24   584.672653  4.841203e-06  3.085709e-06  5.087169e-06 -5.805869e-07   \n12   g25   681.315922  5.361795e-07  2.825091e-07 -4.324878e-06  9.482186e-07   \n13   g28   872.114910  3.743001e-06  5.855049e-06 -1.473327e-07 -4.921852e-08   \n14   g32   847.972386  1.926478e-06  6.646608e-06  1.995455e-06  7.056682e-07   \n15   g33   827.264009  3.046333e-06 -3.737189e-07 -1.860539e-06 -9.986540e-08   \n16   g34   994.809576  2.046777e-06 -1.600866e-06  5.101513e-07  9.230405e-07   \n17   g37   903.880663  4.363612e-06  1.166307e-05 -3.734652e-06  2.474584e-06   \n18   g38   810.945312 -1.032279e-06  7.889902e-06 -2.342483e-06  2.986038e-06   \n19   g39  1519.456865  9.272472e-06  7.892017e-06  1.207486e-06 -2.694900e-06   \n20   g40  1734.624767  1.310971e-06  1.823013e-06 -1.695887e-06  1.085692e-06   \n21   g41   842.308642  5.953598e-06  9.934258e-06 -1.742860e-06 -5.212085e-07   \n22   g42  1027.138166  8.034454e-06  3.424920e-06 -3.998406e-06  3.316185e-07   \n23   g44  1752.598869  7.946774e-06  1.275436e-05 -6.219835e-06 -5.614559e-07   \n24   g45  1086.814541  1.550610e-06  7.387234e-06  2.632621e-06  1.389071e-06   \n25   g46   594.173534  3.772163e-06 -6.037434e-06  2.859072e-07 -2.187330e-06   \n26   g47   862.781516  4.159767e-06  6.624557e-06  1.846357e-07 -1.533236e-06   \n27   g49   716.978798  5.191268e-06  6.343075e-06 -3.587062e-06  2.301918e-06   \n28   g51   702.292169  1.313906e-05  1.746880e-06 -2.181099e-06 -2.293012e-06   \n29   g52   630.219129  4.395978e-06  8.856692e-06  2.965678e-07 -3.215879e-07   \n\n             p3b  \n0   1.587457e-06  \n1  -2.606751e-08  \n2   5.252905e-06  \n3   4.853533e-07  \n4   2.955179e-06  \n5   1.915894e-06  \n6   2.281106e-06  \n7   2.002415e-06  \n8   7.082539e-07  \n9   4.781290e-07  \n10  8.782885e-07  \n11  2.615686e-06  \n12  3.176729e-06  \n13  3.012072e-06  \n14  4.723885e-07  \n15  8.508226e-07  \n16  3.350546e-07  \n17  4.678639e-07  \n18  2.571166e-07  \n19  3.027331e-06  \n20  5.579810e-07  \n21  1.204758e-06  \n22  1.316886e-06  \n23  2.222714e-07  \n24  2.792777e-07  \n25  1.426350e-06  \n26  2.493433e-06  \n27  1.829538e-06  \n28  1.476706e-06  \n29 -1.111118e-06  ",
      "text/html": "<div>\n<style scoped>\n    .dataframe tbody tr th:only-of-type {\n        vertical-align: middle;\n    }\n\n    .dataframe tbody tr th {\n        vertical-align: top;\n    }\n\n    .dataframe thead th {\n        text-align: right;\n    }\n</style>\n<table border=\"1\" class=\"dataframe\">\n  <thead>\n    <tr style=\"text-align: right;\">\n      <th></th>\n      <th>g_num</th>\n      <th>RT</th>\n      <th>p1</th>\n      <th>p2</th>\n      <th>VAN</th>\n      <th>p3a</th>\n      <th>p3b</th>\n    </tr>\n  </thead>\n  <tbody>\n    <tr>\n      <th>0</th>\n      <td>g01</td>\n      <td>762.496588</td>\n      <td>-9.628389e-07</td>\n      <td>2.931893e-06</td>\n      <td>-9.667400e-07</td>\n      <td>-8.049808e-07</td>\n      <td>1.587457e-06</td>\n    </tr>\n    <tr>\n      <th>1</th>\n      <td>g03</td>\n      <td>853.517749</td>\n      <td>7.361368e-06</td>\n      <td>7.826538e-06</td>\n      <td>-9.759335e-07</td>\n      <td>3.413963e-07</td>\n      <td>-2.606751e-08</td>\n    </tr>\n    <tr>\n      <th>2</th>\n      <td>g08</td>\n      <td>849.946961</td>\n      <td>-3.205114e-06</td>\n      <td>-2.081928e-07</td>\n      <td>1.000709e-06</td>\n      <td>-4.082294e-06</td>\n      <td>5.252905e-06</td>\n    </tr>\n    <tr>\n      <th>3</th>\n      <td>g10</td>\n      <td>872.992785</td>\n      <td>-9.523148e-07</td>\n      <td>2.589167e-06</td>\n      <td>1.295697e-06</td>\n      <td>3.659024e-08</td>\n      <td>4.853533e-07</td>\n    </tr>\n    <tr>\n      <th>4</th>\n      <td>g11</td>\n      <td>590.471765</td>\n      <td>5.396973e-06</td>\n      <td>-8.108459e-09</td>\n      <td>-1.311562e-06</td>\n      <td>1.171954e-06</td>\n      <td>2.955179e-06</td>\n    </tr>\n    <tr>\n      <th>5</th>\n      <td>g12</td>\n      <td>719.516085</td>\n      <td>3.408531e-07</td>\n      <td>4.180625e-06</td>\n      <td>-5.617171e-07</td>\n      <td>-6.773648e-07</td>\n      <td>1.915894e-06</td>\n    </tr>\n    <tr>\n      <th>6</th>\n      <td>g15</td>\n      <td>792.158826</td>\n      <td>3.386605e-06</td>\n      <td>8.534282e-06</td>\n      <td>1.219063e-08</td>\n      <td>-1.811056e-06</td>\n      <td>2.281106e-06</td>\n    </tr>\n    <tr>\n      <th>7</th>\n      <td>g16</td>\n      <td>638.724513</td>\n      <td>4.384337e-06</td>\n      <td>3.419212e-06</td>\n      <td>-1.604334e-06</td>\n      <td>-2.580755e-06</td>\n      <td>2.002415e-06</td>\n    </tr>\n    <tr>\n      <th>8</th>\n      <td>g17</td>\n      <td>837.130160</td>\n      <td>4.879755e-06</td>\n      <td>7.880737e-06</td>\n      <td>-8.509932e-06</td>\n      <td>5.923362e-06</td>\n      <td>7.082539e-07</td>\n    </tr>\n    <tr>\n      <th>9</th>\n      <td>g19</td>\n      <td>657.792286</td>\n      <td>7.234242e-06</td>\n      <td>-2.286545e-06</td>\n      <td>-7.095457e-06</td>\n      <td>1.322903e-06</td>\n      <td>4.781290e-07</td>\n    </tr>\n    <tr>\n      <th>10</th>\n      <td>g23</td>\n      <td>640.046875</td>\n      <td>4.828491e-06</td>\n      <td>-6.959750e-06</td>\n      <td>-4.566273e-06</td>\n      <td>2.149807e-06</td>\n      <td>8.782885e-07</td>\n    </tr>\n    <tr>\n      <th>11</th>\n      <td>g24</td>\n      <td>584.672653</td>\n      <td>4.841203e-06</td>\n      <td>3.085709e-06</td>\n      <td>5.087169e-06</td>\n      <td>-5.805869e-07</td>\n      <td>2.615686e-06</td>\n    </tr>\n    <tr>\n      <th>12</th>\n      <td>g25</td>\n      <td>681.315922</td>\n      <td>5.361795e-07</td>\n      <td>2.825091e-07</td>\n      <td>-4.324878e-06</td>\n      <td>9.482186e-07</td>\n      <td>3.176729e-06</td>\n    </tr>\n    <tr>\n      <th>13</th>\n      <td>g28</td>\n      <td>872.114910</td>\n      <td>3.743001e-06</td>\n      <td>5.855049e-06</td>\n      <td>-1.473327e-07</td>\n      <td>-4.921852e-08</td>\n      <td>3.012072e-06</td>\n    </tr>\n    <tr>\n      <th>14</th>\n      <td>g32</td>\n      <td>847.972386</td>\n      <td>1.926478e-06</td>\n      <td>6.646608e-06</td>\n      <td>1.995455e-06</td>\n      <td>7.056682e-07</td>\n      <td>4.723885e-07</td>\n    </tr>\n    <tr>\n      <th>15</th>\n      <td>g33</td>\n      <td>827.264009</td>\n      <td>3.046333e-06</td>\n      <td>-3.737189e-07</td>\n      <td>-1.860539e-06</td>\n      <td>-9.986540e-08</td>\n      <td>8.508226e-07</td>\n    </tr>\n    <tr>\n      <th>16</th>\n      <td>g34</td>\n      <td>994.809576</td>\n      <td>2.046777e-06</td>\n      <td>-1.600866e-06</td>\n      <td>5.101513e-07</td>\n      <td>9.230405e-07</td>\n      <td>3.350546e-07</td>\n    </tr>\n    <tr>\n      <th>17</th>\n      <td>g37</td>\n      <td>903.880663</td>\n      <td>4.363612e-06</td>\n      <td>1.166307e-05</td>\n      <td>-3.734652e-06</td>\n      <td>2.474584e-06</td>\n      <td>4.678639e-07</td>\n    </tr>\n    <tr>\n      <th>18</th>\n      <td>g38</td>\n      <td>810.945312</td>\n      <td>-1.032279e-06</td>\n      <td>7.889902e-06</td>\n      <td>-2.342483e-06</td>\n      <td>2.986038e-06</td>\n      <td>2.571166e-07</td>\n    </tr>\n    <tr>\n      <th>19</th>\n      <td>g39</td>\n      <td>1519.456865</td>\n      <td>9.272472e-06</td>\n      <td>7.892017e-06</td>\n      <td>1.207486e-06</td>\n      <td>-2.694900e-06</td>\n      <td>3.027331e-06</td>\n    </tr>\n    <tr>\n      <th>20</th>\n      <td>g40</td>\n      <td>1734.624767</td>\n      <td>1.310971e-06</td>\n      <td>1.823013e-06</td>\n      <td>-1.695887e-06</td>\n      <td>1.085692e-06</td>\n      <td>5.579810e-07</td>\n    </tr>\n    <tr>\n      <th>21</th>\n      <td>g41</td>\n      <td>842.308642</td>\n      <td>5.953598e-06</td>\n      <td>9.934258e-06</td>\n      <td>-1.742860e-06</td>\n      <td>-5.212085e-07</td>\n      <td>1.204758e-06</td>\n    </tr>\n    <tr>\n      <th>22</th>\n      <td>g42</td>\n      <td>1027.138166</td>\n      <td>8.034454e-06</td>\n      <td>3.424920e-06</td>\n      <td>-3.998406e-06</td>\n      <td>3.316185e-07</td>\n      <td>1.316886e-06</td>\n    </tr>\n    <tr>\n      <th>23</th>\n      <td>g44</td>\n      <td>1752.598869</td>\n      <td>7.946774e-06</td>\n      <td>1.275436e-05</td>\n      <td>-6.219835e-06</td>\n      <td>-5.614559e-07</td>\n      <td>2.222714e-07</td>\n    </tr>\n    <tr>\n      <th>24</th>\n      <td>g45</td>\n      <td>1086.814541</td>\n      <td>1.550610e-06</td>\n      <td>7.387234e-06</td>\n      <td>2.632621e-06</td>\n      <td>1.389071e-06</td>\n      <td>2.792777e-07</td>\n    </tr>\n    <tr>\n      <th>25</th>\n      <td>g46</td>\n      <td>594.173534</td>\n      <td>3.772163e-06</td>\n      <td>-6.037434e-06</td>\n      <td>2.859072e-07</td>\n      <td>-2.187330e-06</td>\n      <td>1.426350e-06</td>\n    </tr>\n    <tr>\n      <th>26</th>\n      <td>g47</td>\n      <td>862.781516</td>\n      <td>4.159767e-06</td>\n      <td>6.624557e-06</td>\n      <td>1.846357e-07</td>\n      <td>-1.533236e-06</td>\n      <td>2.493433e-06</td>\n    </tr>\n    <tr>\n      <th>27</th>\n      <td>g49</td>\n      <td>716.978798</td>\n      <td>5.191268e-06</td>\n      <td>6.343075e-06</td>\n      <td>-3.587062e-06</td>\n      <td>2.301918e-06</td>\n      <td>1.829538e-06</td>\n    </tr>\n    <tr>\n      <th>28</th>\n      <td>g51</td>\n      <td>702.292169</td>\n      <td>1.313906e-05</td>\n      <td>1.746880e-06</td>\n      <td>-2.181099e-06</td>\n      <td>-2.293012e-06</td>\n      <td>1.476706e-06</td>\n    </tr>\n    <tr>\n      <th>29</th>\n      <td>g52</td>\n      <td>630.219129</td>\n      <td>4.395978e-06</td>\n      <td>8.856692e-06</td>\n      <td>2.965678e-07</td>\n      <td>-3.215879e-07</td>\n      <td>-1.111118e-06</td>\n    </tr>\n  </tbody>\n</table>\n</div>"
     },
     "execution_count": 141,
     "metadata": {},
     "output_type": "execute_result"
    }
   ],
   "source": [
    "\n",
    "final_df=pivot_RT_df.merge(pd_df,on='g_num')\n",
    "final_df"
   ],
   "metadata": {
    "collapsed": false,
    "ExecuteTime": {
     "end_time": "2025-02-17T16:44:51.894620Z",
     "start_time": "2025-02-17T16:44:51.766619700Z"
    }
   }
  },
  {
   "cell_type": "code",
   "execution_count": 142,
   "outputs": [
    {
     "data": {
      "text/plain": "           RT        p1        p2       VAN       p3a       p3b\nRT   1.000000  0.108562  0.369507 -0.079320 -0.029969 -0.145837\np1   0.108562  1.000000  0.150934 -0.299799 -0.056224 -0.153188\np2   0.369507  0.150934  1.000000 -0.008740  0.119952 -0.222390\nVAN -0.079320 -0.299799 -0.008740  1.000000 -0.523074  0.229226\np3a -0.029969 -0.056224  0.119952 -0.523074  1.000000 -0.493689\np3b -0.145837 -0.153188 -0.222390  0.229226 -0.493689  1.000000",
      "text/html": "<div>\n<style scoped>\n    .dataframe tbody tr th:only-of-type {\n        vertical-align: middle;\n    }\n\n    .dataframe tbody tr th {\n        vertical-align: top;\n    }\n\n    .dataframe thead th {\n        text-align: right;\n    }\n</style>\n<table border=\"1\" class=\"dataframe\">\n  <thead>\n    <tr style=\"text-align: right;\">\n      <th></th>\n      <th>RT</th>\n      <th>p1</th>\n      <th>p2</th>\n      <th>VAN</th>\n      <th>p3a</th>\n      <th>p3b</th>\n    </tr>\n  </thead>\n  <tbody>\n    <tr>\n      <th>RT</th>\n      <td>1.000000</td>\n      <td>0.108562</td>\n      <td>0.369507</td>\n      <td>-0.079320</td>\n      <td>-0.029969</td>\n      <td>-0.145837</td>\n    </tr>\n    <tr>\n      <th>p1</th>\n      <td>0.108562</td>\n      <td>1.000000</td>\n      <td>0.150934</td>\n      <td>-0.299799</td>\n      <td>-0.056224</td>\n      <td>-0.153188</td>\n    </tr>\n    <tr>\n      <th>p2</th>\n      <td>0.369507</td>\n      <td>0.150934</td>\n      <td>1.000000</td>\n      <td>-0.008740</td>\n      <td>0.119952</td>\n      <td>-0.222390</td>\n    </tr>\n    <tr>\n      <th>VAN</th>\n      <td>-0.079320</td>\n      <td>-0.299799</td>\n      <td>-0.008740</td>\n      <td>1.000000</td>\n      <td>-0.523074</td>\n      <td>0.229226</td>\n    </tr>\n    <tr>\n      <th>p3a</th>\n      <td>-0.029969</td>\n      <td>-0.056224</td>\n      <td>0.119952</td>\n      <td>-0.523074</td>\n      <td>1.000000</td>\n      <td>-0.493689</td>\n    </tr>\n    <tr>\n      <th>p3b</th>\n      <td>-0.145837</td>\n      <td>-0.153188</td>\n      <td>-0.222390</td>\n      <td>0.229226</td>\n      <td>-0.493689</td>\n      <td>1.000000</td>\n    </tr>\n  </tbody>\n</table>\n</div>"
     },
     "execution_count": 142,
     "metadata": {},
     "output_type": "execute_result"
    }
   ],
   "source": [
    "# compute corr using pearson\n",
    "final_df.corr()"
   ],
   "metadata": {
    "collapsed": false,
    "ExecuteTime": {
     "end_time": "2025-02-17T16:44:54.834832100Z",
     "start_time": "2025-02-17T16:44:54.718931700Z"
    }
   }
  },
  {
   "cell_type": "markdown",
   "source": [],
   "metadata": {
    "collapsed": false
   }
  },
  {
   "cell_type": "code",
   "execution_count": 143,
   "outputs": [
    {
     "data": {
      "text/plain": "           RT        p1        p2       VAN       p3a       p3b\nRT   1.000000 -0.059844  0.378865  0.081201  0.080311 -0.277864\np1  -0.059844  1.000000  0.206674 -0.356174 -0.036263 -0.043826\np2   0.378865  0.206674  1.000000  0.010456  0.035818 -0.283204\nVAN  0.081201 -0.356174  0.010456  1.000000 -0.448721  0.149277\np3a  0.080311 -0.036263  0.035818 -0.448721  1.000000 -0.481646\np3b -0.277864 -0.043826 -0.283204  0.149277 -0.481646  1.000000",
      "text/html": "<div>\n<style scoped>\n    .dataframe tbody tr th:only-of-type {\n        vertical-align: middle;\n    }\n\n    .dataframe tbody tr th {\n        vertical-align: top;\n    }\n\n    .dataframe thead th {\n        text-align: right;\n    }\n</style>\n<table border=\"1\" class=\"dataframe\">\n  <thead>\n    <tr style=\"text-align: right;\">\n      <th></th>\n      <th>RT</th>\n      <th>p1</th>\n      <th>p2</th>\n      <th>VAN</th>\n      <th>p3a</th>\n      <th>p3b</th>\n    </tr>\n  </thead>\n  <tbody>\n    <tr>\n      <th>RT</th>\n      <td>1.000000</td>\n      <td>-0.059844</td>\n      <td>0.378865</td>\n      <td>0.081201</td>\n      <td>0.080311</td>\n      <td>-0.277864</td>\n    </tr>\n    <tr>\n      <th>p1</th>\n      <td>-0.059844</td>\n      <td>1.000000</td>\n      <td>0.206674</td>\n      <td>-0.356174</td>\n      <td>-0.036263</td>\n      <td>-0.043826</td>\n    </tr>\n    <tr>\n      <th>p2</th>\n      <td>0.378865</td>\n      <td>0.206674</td>\n      <td>1.000000</td>\n      <td>0.010456</td>\n      <td>0.035818</td>\n      <td>-0.283204</td>\n    </tr>\n    <tr>\n      <th>VAN</th>\n      <td>0.081201</td>\n      <td>-0.356174</td>\n      <td>0.010456</td>\n      <td>1.000000</td>\n      <td>-0.448721</td>\n      <td>0.149277</td>\n    </tr>\n    <tr>\n      <th>p3a</th>\n      <td>0.080311</td>\n      <td>-0.036263</td>\n      <td>0.035818</td>\n      <td>-0.448721</td>\n      <td>1.000000</td>\n      <td>-0.481646</td>\n    </tr>\n    <tr>\n      <th>p3b</th>\n      <td>-0.277864</td>\n      <td>-0.043826</td>\n      <td>-0.283204</td>\n      <td>0.149277</td>\n      <td>-0.481646</td>\n      <td>1.000000</td>\n    </tr>\n  </tbody>\n</table>\n</div>"
     },
     "execution_count": 143,
     "metadata": {},
     "output_type": "execute_result"
    }
   ],
   "source": [
    "# compute corr using spearman\n",
    "final_df.corr(method='spearman')"
   ],
   "metadata": {
    "collapsed": false,
    "ExecuteTime": {
     "end_time": "2025-02-17T16:44:57.038659400Z",
     "start_time": "2025-02-17T16:44:56.922759Z"
    }
   }
  },
  {
   "cell_type": "code",
   "execution_count": 144,
   "outputs": [],
   "source": [
    "# code to obtain p values\n",
    "from scipy.stats import pearsonr,spearmanr\n",
    "import pandas as pd\n",
    "\n",
    "def calculate_pvalues_pearson(df):\n",
    "    dfcols = pd.DataFrame(columns=df.columns)\n",
    "    pvalues = dfcols.transpose().join(dfcols, how='outer')\n",
    "    for r in df.columns:\n",
    "        for c in df.columns:\n",
    "            tmp = df[df[r].notnull() & df[c].notnull()]\n",
    "            pvalues[r][c] = round(pearsonr(tmp[r], tmp[c])[1], 4)\n",
    "    return pvalues\n",
    "\n",
    "def calculate_pvalues_spearman(df):\n",
    "    dfcols = pd.DataFrame(columns=df.columns)\n",
    "    pvalues = dfcols.transpose().join(dfcols, how='outer')\n",
    "    for r in df.columns:\n",
    "        for c in df.columns:\n",
    "            tmp = df[df[r].notnull() & df[c].notnull()]\n",
    "            pvalues[r][c] = round(spearmanr(tmp[r], tmp[c])[1], 4)\n",
    "    return pvalues"
   ],
   "metadata": {
    "collapsed": false,
    "ExecuteTime": {
     "end_time": "2025-02-17T16:45:00.501191500Z",
     "start_time": "2025-02-17T16:45:00.392428500Z"
    }
   }
  },
  {
   "cell_type": "code",
   "execution_count": 145,
   "outputs": [
    {
     "name": "stderr",
     "output_type": "stream",
     "text": [
      "C:\\Users\\Vivi\\AppData\\Local\\Temp\\ipykernel_19188\\2212112361.py:1: FutureWarning: In a future version of pandas all arguments of DataFrame.drop except for the argument 'labels' will be keyword-only.\n",
      "  final_df_nog=final_df.drop('g_num',1)\n"
     ]
    },
    {
     "data": {
      "text/plain": "         RT      p1      p2     VAN     p3a     p3b\nRT      0.0   0.568  0.0445  0.6769  0.8751  0.4419\np1    0.568     0.0  0.4259  0.1075  0.7679   0.419\np2   0.0445  0.4259     0.0  0.9634  0.5278  0.2375\nVAN  0.6769  0.1075  0.9634     0.0   0.003   0.223\np3a  0.8751  0.7679  0.5278   0.003     0.0  0.0056\np3b  0.4419   0.419  0.2375   0.223  0.0056     0.0",
      "text/html": "<div>\n<style scoped>\n    .dataframe tbody tr th:only-of-type {\n        vertical-align: middle;\n    }\n\n    .dataframe tbody tr th {\n        vertical-align: top;\n    }\n\n    .dataframe thead th {\n        text-align: right;\n    }\n</style>\n<table border=\"1\" class=\"dataframe\">\n  <thead>\n    <tr style=\"text-align: right;\">\n      <th></th>\n      <th>RT</th>\n      <th>p1</th>\n      <th>p2</th>\n      <th>VAN</th>\n      <th>p3a</th>\n      <th>p3b</th>\n    </tr>\n  </thead>\n  <tbody>\n    <tr>\n      <th>RT</th>\n      <td>0.0</td>\n      <td>0.568</td>\n      <td>0.0445</td>\n      <td>0.6769</td>\n      <td>0.8751</td>\n      <td>0.4419</td>\n    </tr>\n    <tr>\n      <th>p1</th>\n      <td>0.568</td>\n      <td>0.0</td>\n      <td>0.4259</td>\n      <td>0.1075</td>\n      <td>0.7679</td>\n      <td>0.419</td>\n    </tr>\n    <tr>\n      <th>p2</th>\n      <td>0.0445</td>\n      <td>0.4259</td>\n      <td>0.0</td>\n      <td>0.9634</td>\n      <td>0.5278</td>\n      <td>0.2375</td>\n    </tr>\n    <tr>\n      <th>VAN</th>\n      <td>0.6769</td>\n      <td>0.1075</td>\n      <td>0.9634</td>\n      <td>0.0</td>\n      <td>0.003</td>\n      <td>0.223</td>\n    </tr>\n    <tr>\n      <th>p3a</th>\n      <td>0.8751</td>\n      <td>0.7679</td>\n      <td>0.5278</td>\n      <td>0.003</td>\n      <td>0.0</td>\n      <td>0.0056</td>\n    </tr>\n    <tr>\n      <th>p3b</th>\n      <td>0.4419</td>\n      <td>0.419</td>\n      <td>0.2375</td>\n      <td>0.223</td>\n      <td>0.0056</td>\n      <td>0.0</td>\n    </tr>\n  </tbody>\n</table>\n</div>"
     },
     "execution_count": 145,
     "metadata": {},
     "output_type": "execute_result"
    }
   ],
   "source": [
    "\n",
    "final_df_nog=final_df.drop('g_num',1)\n",
    "calculate_pvalues_pearson(final_df_nog)"
   ],
   "metadata": {
    "collapsed": false,
    "ExecuteTime": {
     "end_time": "2025-02-17T16:45:01.118344900Z",
     "start_time": "2025-02-17T16:45:00.973315400Z"
    }
   }
  },
  {
   "cell_type": "code",
   "execution_count": 146,
   "outputs": [
    {
     "data": {
      "text/plain": "         RT      p1      p2     VAN     p3a     p3b\nRT      0.0  0.7534   0.039  0.6697  0.6731  0.1371\np1   0.7534     0.0  0.2732  0.0534  0.8491  0.8181\np2    0.039  0.2732     0.0  0.9563   0.851  0.1294\nVAN  0.6697  0.0534  0.9563     0.0  0.0129  0.4311\np3a  0.6731  0.8491   0.851  0.0129     0.0   0.007\np3b  0.1371  0.8181  0.1294  0.4311   0.007     0.0",
      "text/html": "<div>\n<style scoped>\n    .dataframe tbody tr th:only-of-type {\n        vertical-align: middle;\n    }\n\n    .dataframe tbody tr th {\n        vertical-align: top;\n    }\n\n    .dataframe thead th {\n        text-align: right;\n    }\n</style>\n<table border=\"1\" class=\"dataframe\">\n  <thead>\n    <tr style=\"text-align: right;\">\n      <th></th>\n      <th>RT</th>\n      <th>p1</th>\n      <th>p2</th>\n      <th>VAN</th>\n      <th>p3a</th>\n      <th>p3b</th>\n    </tr>\n  </thead>\n  <tbody>\n    <tr>\n      <th>RT</th>\n      <td>0.0</td>\n      <td>0.7534</td>\n      <td>0.039</td>\n      <td>0.6697</td>\n      <td>0.6731</td>\n      <td>0.1371</td>\n    </tr>\n    <tr>\n      <th>p1</th>\n      <td>0.7534</td>\n      <td>0.0</td>\n      <td>0.2732</td>\n      <td>0.0534</td>\n      <td>0.8491</td>\n      <td>0.8181</td>\n    </tr>\n    <tr>\n      <th>p2</th>\n      <td>0.039</td>\n      <td>0.2732</td>\n      <td>0.0</td>\n      <td>0.9563</td>\n      <td>0.851</td>\n      <td>0.1294</td>\n    </tr>\n    <tr>\n      <th>VAN</th>\n      <td>0.6697</td>\n      <td>0.0534</td>\n      <td>0.9563</td>\n      <td>0.0</td>\n      <td>0.0129</td>\n      <td>0.4311</td>\n    </tr>\n    <tr>\n      <th>p3a</th>\n      <td>0.6731</td>\n      <td>0.8491</td>\n      <td>0.851</td>\n      <td>0.0129</td>\n      <td>0.0</td>\n      <td>0.007</td>\n    </tr>\n    <tr>\n      <th>p3b</th>\n      <td>0.1371</td>\n      <td>0.8181</td>\n      <td>0.1294</td>\n      <td>0.4311</td>\n      <td>0.007</td>\n      <td>0.0</td>\n    </tr>\n  </tbody>\n</table>\n</div>"
     },
     "execution_count": 146,
     "metadata": {},
     "output_type": "execute_result"
    }
   ],
   "source": [
    "calculate_pvalues_spearman(final_df_nog)"
   ],
   "metadata": {
    "collapsed": false,
    "ExecuteTime": {
     "end_time": "2025-02-17T16:45:02.558189300Z",
     "start_time": "2025-02-17T16:45:02.414019200Z"
    }
   }
  },
  {
   "cell_type": "markdown",
   "source": [
    "# Compute nasal vs oral on P1 amplitude\n",
    "  - load oral and nasal for awa and unaware ERPs\n",
    "  - extract P1 electrodes and time window (90-120 ms)\n",
    "  - compute Anovas"
   ],
   "metadata": {
    "collapsed": false
   }
  }
 ],
 "metadata": {
  "kernelspec": {
   "name": "conda-env-mne-py",
   "language": "python",
   "display_name": "Python [conda env:mne]"
  },
  "language_info": {
   "codemirror_mode": {
    "name": "ipython",
    "version": 2
   },
   "file_extension": ".py",
   "mimetype": "text/x-python",
   "name": "python",
   "nbconvert_exporter": "python",
   "pygments_lexer": "ipython2",
   "version": "2.7.6"
  }
 },
 "nbformat": 4,
 "nbformat_minor": 0
}
