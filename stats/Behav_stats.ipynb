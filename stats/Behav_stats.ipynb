{
 "cells": [
  {
   "cell_type": "code",
   "execution_count": 1,
   "id": "7d7268a7",
   "metadata": {
    "ExecuteTime": {
     "end_time": "2024-12-11T09:39:31.265300Z",
     "start_time": "2024-12-11T09:39:30.928172Z"
    }
   },
   "outputs": [],
   "source": [
    "import pandas as pd\n",
    "import os\n",
    "import platform\n",
    "import sys\n",
    "import mne\n",
    "import base.base_constants as b_cs\n",
    "if platform.system()=='Darwin':\n",
    "    \n",
    "    sys.path.append('/Users/leupinv/BBC/WP1/data/Code/python/BBC')\n",
    "    os.chdir('/Volumes/BBC/BBC/WP1/data/EEG/tsk/')\n",
    "    sys.path.append('/Users/leupinv/BBC/WP1/data/Code/python/BBC')\n",
    "\n",
    "\n",
    "\n",
    "elif platform.system()=='Windows':\n",
    "    os.chdir('Z:/BBC/WP1/data/EEG/tsk')\n",
    "\n",
    "    sys.path.append('C:/Users/Vivi/switchdrive/BBC/WP1/data/Code/python/BBC')\n",
    "    #os.chdir('c:/Users/Engi/all/BBC/WP1/data/EEG/tsk')\n",
    "elif platform.system()=='Linux':\n",
    "    os.chdir('/run/user/1000/gvfs/smb-share:server=bigdata,share=arts/Psycho/BBC/BBC/WP1/data/EEG/tsk'\n",
    "             )\n",
    "    #os.chdir('c:/Users/Engi/all/BBC/WP1/data/EEG/tsk')\n",
    "\n",
    "import pingouin as pg\n",
    "import seaborn as sns\n",
    "\n",
    "import matplotlib.pyplot as plt\n",
    "\n"
   ]
  },
  {
   "cell_type": "code",
   "execution_count": 2,
   "id": "353ef8b2",
   "metadata": {
    "ExecuteTime": {
     "end_time": "2024-12-11T09:39:35.246731Z",
     "start_time": "2024-12-11T09:39:35.231055Z"
    }
   },
   "outputs": [],
   "source": [
    "%load_ext autoreload\n",
    "\n",
    "\n",
    "%autoreload 2\n",
    "\n",
    "plt.style.use('default')\n",
    "import matplotlib as mpl\n",
    "plt.style.use('default')\n",
    "\n",
    "mpl.rcParams['svg.fonttype']='none'\n",
    "mpl.rcParams['text.usetex']=False"
   ]
  },
  {
   "cell_type": "markdown",
   "source": [
    "## Create behavioral dataframe \n",
    "using directly metadata from clean data"
   ],
   "metadata": {
    "collapsed": false
   },
   "id": "bcbb87f489aa319c"
  },
  {
   "cell_type": "code",
   "outputs": [
    {
     "ename": "SyntaxError",
     "evalue": "unterminated string literal (detected at line 15) (4089780801.py, line 15)",
     "output_type": "error",
     "traceback": [
      "\u001B[0;36m  Cell \u001B[0;32mIn[3], line 15\u001B[0;36m\u001B[0m\n\u001B[0;31m    filename='/df_o_cleantrials.feather\u001B[0m\n\u001B[0m             ^\u001B[0m\n\u001B[0;31mSyntaxError\u001B[0m\u001B[0;31m:\u001B[0m unterminated string literal (detected at line 15)\n"
     ]
    }
   ],
   "source": [
    "#Code to create behavioral dataframe using directly metadata from clean data\n",
    "df_list=[]\n",
    "#loop inside each epoch file and select metadata \n",
    "for g_n in b_cs.G_N:\n",
    "    epo_df=mne.read_epochs(f'preproc/{g_n}/{g_n}_epochs/{g_n}_final/{g_n}_o_tsk_cfa_vep_clean_epo.fif', preload=True)\n",
    "    \n",
    "    epo_metadata=epo_df.metadata\n",
    "    epo_metadata['g_num']=g_n\n",
    "    df_list.append(epo_metadata)\n",
    "df_conc=pd.concat(df_list)\n",
    "df_conc\n",
    "\n",
    "#saves\n",
    "path='ana/behavioral/df_o_cleantrials.feather'\n",
    "filename='/df_o_cleantrials.feather'\n",
    "feather.write_dataframe(df_conc,path)"
   ],
   "metadata": {
    "collapsed": false,
    "ExecuteTime": {
     "end_time": "2024-12-11T09:39:37.137349Z",
     "start_time": "2024-12-11T09:39:37.122394Z"
    }
   },
   "id": "253789232ff6c00",
   "execution_count": 3
  },
  {
   "cell_type": "markdown",
   "source": [
    "## load dataframe\n",
    "in case dataframe is already created use this to load it"
   ],
   "metadata": {
    "collapsed": false
   },
   "id": "825d0170fbe583d8"
  },
  {
   "cell_type": "code",
   "outputs": [],
   "source": [
    "path='ana/behavioral/df_o_cleantrials.feather'"
   ],
   "metadata": {
    "collapsed": false,
    "ExecuteTime": {
     "end_time": "2024-12-11T09:39:49.556617Z",
     "start_time": "2024-12-11T09:39:49.544696Z"
    }
   },
   "id": "850ae25a4725719e",
   "execution_count": 4
  },
  {
   "cell_type": "code",
   "outputs": [],
   "source": [
    "df=pd.read_feather(path)"
   ],
   "metadata": {
    "collapsed": false,
    "ExecuteTime": {
     "end_time": "2024-12-11T09:39:51.238245Z",
     "start_time": "2024-12-11T09:39:50.326047Z"
    }
   },
   "id": "90f91df6592bf8d8",
   "execution_count": 5
  },
  {
   "cell_type": "code",
   "outputs": [
    {
     "data": {
      "text/plain": "Index(['TF', 'RT', 'difficulty', 'accuracy', 'awareness', 'cardiac_phase',\n       'RRI', 'HeartRate', 'HeartRate_post', 'HeartRate_rolling_5_before',\n       'HeartRate_rolling_5_centered', 'HeartRate_rolling_5_after',\n       'HeartRateVar_rolling_10_centered', 'HeartRateVar_rolling_100_centered',\n       'HeartRate_precedent', 'cardiac_peak', 'rsp_phase',\n       'RSP_Rate_precedent', 'rsp_int', 'RSP_Rate', 'RSP_Rate_post',\n       'RSP_Rate_rolling_5_before', 'RSP_Rate_rolling_5_centered',\n       'RSP_Rate_rolling_5_after', 'RspRateVar_rolling_10_centered',\n       'RspRateVar_rolling_100_centered', 'mrk_awa', 'mrk_card_awa',\n       'mrk_rsp_awa', 'R_stim_int', 'inh_stim_int', 'mrk_card_awa_RR',\n       'mrk_rsp_awa_RR', 'signal_type', 'sys_mask', 'stim_idx',\n       'ECG_Phase_Completion_Ventricular', 'ECG_Phase_Completion_Atrial',\n       'RSP_Phase_Completion', 'RSP_Amplitude', 'g_num'],\n      dtype='object')"
     },
     "execution_count": 6,
     "metadata": {},
     "output_type": "execute_result"
    }
   ],
   "source": [
    "df.columns"
   ],
   "metadata": {
    "collapsed": false,
    "ExecuteTime": {
     "end_time": "2024-12-11T09:39:53.760414Z",
     "start_time": "2024-12-11T09:39:53.743600Z"
    }
   },
   "id": "caeb31c3b638eb39",
   "execution_count": 6
  },
  {
   "cell_type": "code",
   "outputs": [
    {
     "data": {
      "text/plain": "2       1.0\n6       0.0\n10      0.0\n14      1.0\n18      1.0\n       ... \n5837    1.0\n5845    1.0\n5849    1.0\n5857    0.0\n5861    1.0\nName: sys_mask, Length: 26711, dtype: float64"
     },
     "execution_count": 81,
     "metadata": {},
     "output_type": "execute_result"
    }
   ],
   "source": [
    "df['sys_mask']"
   ],
   "metadata": {
    "collapsed": false,
    "ExecuteTime": {
     "end_time": "2024-04-29T14:32:02.514377Z",
     "start_time": "2024-04-29T14:32:02.457913Z"
    }
   },
   "id": "e2420b84e88e71e3",
   "execution_count": 81
  },
  {
   "cell_type": "code",
   "outputs": [],
   "source": [
    "# fitler only normal trials and end of the diastole \n",
    "df=df[df['difficulty']== 'normal']\n",
    "\n",
    "df=df[df['sys_mask']== 1]"
   ],
   "metadata": {
    "collapsed": false,
    "ExecuteTime": {
     "end_time": "2024-12-11T09:39:57.702488Z",
     "start_time": "2024-12-11T09:39:57.679067Z"
    }
   },
   "id": "ed90cc5d3de106b1",
   "execution_count": 7
  },
  {
   "cell_type": "code",
   "outputs": [
    {
     "data": {
      "text/plain": "           TF           RT difficulty accuracy awareness cardiac_phase  \\\n2        8944  1625.789062     normal  mistake   unaware           sys   \n18      20183   617.000000     normal  correct     aware           dia   \n22      22632   666.804688     normal  mistake   unaware           sys   \n26      24458   541.804688     normal  correct     aware           sys   \n34      29254   817.195312     normal  mistake   unaware           dia   \n...       ...          ...        ...      ...       ...           ...   \n5829  5061771   841.609375     normal  correct   unaware           sys   \n5833  5064348  1008.601562     normal  correct   unaware           sys   \n5837  5066976   600.398438     normal  correct   unaware           dia   \n5845  5072318   526.179688     normal  correct     aware           dia   \n5861  5081825   591.609375     normal  correct   unaware           sys   \n\n           RRI  HeartRate  HeartRate_post  HeartRate_rolling_5_before  ...  \\\n2     0.967773  61.997982       67.221007                   63.357174  ...   \n18    0.957031  62.693878       59.020173                   66.399255  ...   \n22    0.994141  60.353635       61.195219                   61.891594  ...   \n26    0.907227  66.135630       75.571956                   61.271028  ...   \n34    0.859375  69.818182       50.567901                   78.580064  ...   \n...        ...        ...             ...                         ...  ...   \n5829  0.695312  86.292135       67.964602                   83.536309  ...   \n5833  0.965820  62.123357       63.800623                   73.335964  ...   \n5837  0.888672  67.516484       67.001091                   65.297962  ...   \n5845  0.879883  68.190899       66.782609                   67.605873  ...   \n5861  0.851562  70.458716       70.217143                   70.631248  ...   \n\n      mrk_card_awa_RR  mrk_rsp_awa_RR  signal_type  sys_mask  stim_idx  \\\n2              no_val          no_val          vep       1.0       0.0   \n18             no_val          no_val          vep       1.0       4.0   \n22             no_val          no_val          vep       1.0       5.0   \n26             no_val          no_val          vep       1.0       6.0   \n34             no_val          no_val          vep       1.0       8.0   \n...               ...             ...          ...       ...       ...   \n5829           no_val          no_val          vep       1.0    1456.0   \n5833           no_val          no_val          vep       1.0    1457.0   \n5837           no_val          no_val          vep       1.0    1458.0   \n5845           no_val          no_val          vep       1.0    1460.0   \n5861           no_val          no_val          vep       1.0    1464.0   \n\n     ECG_Phase_Completion_Ventricular ECG_Phase_Completion_Atrial  \\\n2                           -0.571429                    0.198917   \n18                           0.757911                   -0.624490   \n22                          -0.354467                    0.286079   \n26                          -0.919075                    0.040698   \n34                           0.936449                   -0.234483   \n...                               ...                         ...   \n5829                        -0.877976                    0.074545   \n5833                        -0.827893                    0.070991   \n5837                         0.686380                    0.985235   \n5845                         0.471429                    0.820652   \n5861                        -0.112426                    0.426136   \n\n      RSP_Phase_Completion  RSP_Amplitude  g_num  \n2                 0.000000       0.000442    g01  \n18                0.921790       0.000820    g01  \n22               -0.678536       0.000778    g01  \n26               -0.420517       0.000735    g01  \n34                0.986978       0.000609    g01  \n...                    ...            ...    ...  \n5829              0.436318       0.006508    g52  \n5833             -0.663087       0.003850    g52  \n5837             -0.049498       0.001472    g52  \n5845              0.546823       0.001057    g52  \n5861              0.000000       0.001306    g52  \n\n[16936 rows x 41 columns]",
      "text/html": "<div>\n<style scoped>\n    .dataframe tbody tr th:only-of-type {\n        vertical-align: middle;\n    }\n\n    .dataframe tbody tr th {\n        vertical-align: top;\n    }\n\n    .dataframe thead th {\n        text-align: right;\n    }\n</style>\n<table border=\"1\" class=\"dataframe\">\n  <thead>\n    <tr style=\"text-align: right;\">\n      <th></th>\n      <th>TF</th>\n      <th>RT</th>\n      <th>difficulty</th>\n      <th>accuracy</th>\n      <th>awareness</th>\n      <th>cardiac_phase</th>\n      <th>RRI</th>\n      <th>HeartRate</th>\n      <th>HeartRate_post</th>\n      <th>HeartRate_rolling_5_before</th>\n      <th>...</th>\n      <th>mrk_card_awa_RR</th>\n      <th>mrk_rsp_awa_RR</th>\n      <th>signal_type</th>\n      <th>sys_mask</th>\n      <th>stim_idx</th>\n      <th>ECG_Phase_Completion_Ventricular</th>\n      <th>ECG_Phase_Completion_Atrial</th>\n      <th>RSP_Phase_Completion</th>\n      <th>RSP_Amplitude</th>\n      <th>g_num</th>\n    </tr>\n  </thead>\n  <tbody>\n    <tr>\n      <th>2</th>\n      <td>8944</td>\n      <td>1625.789062</td>\n      <td>normal</td>\n      <td>mistake</td>\n      <td>unaware</td>\n      <td>sys</td>\n      <td>0.967773</td>\n      <td>61.997982</td>\n      <td>67.221007</td>\n      <td>63.357174</td>\n      <td>...</td>\n      <td>no_val</td>\n      <td>no_val</td>\n      <td>vep</td>\n      <td>1.0</td>\n      <td>0.0</td>\n      <td>-0.571429</td>\n      <td>0.198917</td>\n      <td>0.000000</td>\n      <td>0.000442</td>\n      <td>g01</td>\n    </tr>\n    <tr>\n      <th>18</th>\n      <td>20183</td>\n      <td>617.000000</td>\n      <td>normal</td>\n      <td>correct</td>\n      <td>aware</td>\n      <td>dia</td>\n      <td>0.957031</td>\n      <td>62.693878</td>\n      <td>59.020173</td>\n      <td>66.399255</td>\n      <td>...</td>\n      <td>no_val</td>\n      <td>no_val</td>\n      <td>vep</td>\n      <td>1.0</td>\n      <td>4.0</td>\n      <td>0.757911</td>\n      <td>-0.624490</td>\n      <td>0.921790</td>\n      <td>0.000820</td>\n      <td>g01</td>\n    </tr>\n    <tr>\n      <th>22</th>\n      <td>22632</td>\n      <td>666.804688</td>\n      <td>normal</td>\n      <td>mistake</td>\n      <td>unaware</td>\n      <td>sys</td>\n      <td>0.994141</td>\n      <td>60.353635</td>\n      <td>61.195219</td>\n      <td>61.891594</td>\n      <td>...</td>\n      <td>no_val</td>\n      <td>no_val</td>\n      <td>vep</td>\n      <td>1.0</td>\n      <td>5.0</td>\n      <td>-0.354467</td>\n      <td>0.286079</td>\n      <td>-0.678536</td>\n      <td>0.000778</td>\n      <td>g01</td>\n    </tr>\n    <tr>\n      <th>26</th>\n      <td>24458</td>\n      <td>541.804688</td>\n      <td>normal</td>\n      <td>correct</td>\n      <td>aware</td>\n      <td>sys</td>\n      <td>0.907227</td>\n      <td>66.135630</td>\n      <td>75.571956</td>\n      <td>61.271028</td>\n      <td>...</td>\n      <td>no_val</td>\n      <td>no_val</td>\n      <td>vep</td>\n      <td>1.0</td>\n      <td>6.0</td>\n      <td>-0.919075</td>\n      <td>0.040698</td>\n      <td>-0.420517</td>\n      <td>0.000735</td>\n      <td>g01</td>\n    </tr>\n    <tr>\n      <th>34</th>\n      <td>29254</td>\n      <td>817.195312</td>\n      <td>normal</td>\n      <td>mistake</td>\n      <td>unaware</td>\n      <td>dia</td>\n      <td>0.859375</td>\n      <td>69.818182</td>\n      <td>50.567901</td>\n      <td>78.580064</td>\n      <td>...</td>\n      <td>no_val</td>\n      <td>no_val</td>\n      <td>vep</td>\n      <td>1.0</td>\n      <td>8.0</td>\n      <td>0.936449</td>\n      <td>-0.234483</td>\n      <td>0.986978</td>\n      <td>0.000609</td>\n      <td>g01</td>\n    </tr>\n    <tr>\n      <th>...</th>\n      <td>...</td>\n      <td>...</td>\n      <td>...</td>\n      <td>...</td>\n      <td>...</td>\n      <td>...</td>\n      <td>...</td>\n      <td>...</td>\n      <td>...</td>\n      <td>...</td>\n      <td>...</td>\n      <td>...</td>\n      <td>...</td>\n      <td>...</td>\n      <td>...</td>\n      <td>...</td>\n      <td>...</td>\n      <td>...</td>\n      <td>...</td>\n      <td>...</td>\n      <td>...</td>\n    </tr>\n    <tr>\n      <th>5829</th>\n      <td>5061771</td>\n      <td>841.609375</td>\n      <td>normal</td>\n      <td>correct</td>\n      <td>unaware</td>\n      <td>sys</td>\n      <td>0.695312</td>\n      <td>86.292135</td>\n      <td>67.964602</td>\n      <td>83.536309</td>\n      <td>...</td>\n      <td>no_val</td>\n      <td>no_val</td>\n      <td>vep</td>\n      <td>1.0</td>\n      <td>1456.0</td>\n      <td>-0.877976</td>\n      <td>0.074545</td>\n      <td>0.436318</td>\n      <td>0.006508</td>\n      <td>g52</td>\n    </tr>\n    <tr>\n      <th>5833</th>\n      <td>5064348</td>\n      <td>1008.601562</td>\n      <td>normal</td>\n      <td>correct</td>\n      <td>unaware</td>\n      <td>sys</td>\n      <td>0.965820</td>\n      <td>62.123357</td>\n      <td>63.800623</td>\n      <td>73.335964</td>\n      <td>...</td>\n      <td>no_val</td>\n      <td>no_val</td>\n      <td>vep</td>\n      <td>1.0</td>\n      <td>1457.0</td>\n      <td>-0.827893</td>\n      <td>0.070991</td>\n      <td>-0.663087</td>\n      <td>0.003850</td>\n      <td>g52</td>\n    </tr>\n    <tr>\n      <th>5837</th>\n      <td>5066976</td>\n      <td>600.398438</td>\n      <td>normal</td>\n      <td>correct</td>\n      <td>unaware</td>\n      <td>dia</td>\n      <td>0.888672</td>\n      <td>67.516484</td>\n      <td>67.001091</td>\n      <td>65.297962</td>\n      <td>...</td>\n      <td>no_val</td>\n      <td>no_val</td>\n      <td>vep</td>\n      <td>1.0</td>\n      <td>1458.0</td>\n      <td>0.686380</td>\n      <td>0.985235</td>\n      <td>-0.049498</td>\n      <td>0.001472</td>\n      <td>g52</td>\n    </tr>\n    <tr>\n      <th>5845</th>\n      <td>5072318</td>\n      <td>526.179688</td>\n      <td>normal</td>\n      <td>correct</td>\n      <td>aware</td>\n      <td>dia</td>\n      <td>0.879883</td>\n      <td>68.190899</td>\n      <td>66.782609</td>\n      <td>67.605873</td>\n      <td>...</td>\n      <td>no_val</td>\n      <td>no_val</td>\n      <td>vep</td>\n      <td>1.0</td>\n      <td>1460.0</td>\n      <td>0.471429</td>\n      <td>0.820652</td>\n      <td>0.546823</td>\n      <td>0.001057</td>\n      <td>g52</td>\n    </tr>\n    <tr>\n      <th>5861</th>\n      <td>5081825</td>\n      <td>591.609375</td>\n      <td>normal</td>\n      <td>correct</td>\n      <td>unaware</td>\n      <td>sys</td>\n      <td>0.851562</td>\n      <td>70.458716</td>\n      <td>70.217143</td>\n      <td>70.631248</td>\n      <td>...</td>\n      <td>no_val</td>\n      <td>no_val</td>\n      <td>vep</td>\n      <td>1.0</td>\n      <td>1464.0</td>\n      <td>-0.112426</td>\n      <td>0.426136</td>\n      <td>0.000000</td>\n      <td>0.001306</td>\n      <td>g52</td>\n    </tr>\n  </tbody>\n</table>\n<p>16936 rows × 41 columns</p>\n</div>"
     },
     "execution_count": 8,
     "metadata": {},
     "output_type": "execute_result"
    }
   ],
   "source": [
    "df"
   ],
   "metadata": {
    "collapsed": false,
    "ExecuteTime": {
     "end_time": "2024-12-11T09:39:58.368466Z",
     "start_time": "2024-12-11T09:39:58.343653Z"
    }
   },
   "id": "86b84d85c01abbad",
   "execution_count": 8
  },
  {
   "cell_type": "code",
   "outputs": [
    {
     "data": {
      "text/plain": "2       mistake\n18      correct\n22      mistake\n26      correct\n34      mistake\n         ...   \n5829    correct\n5833    correct\n5837    correct\n5845    correct\n5861    correct\nName: accuracy, Length: 16936, dtype: object"
     },
     "execution_count": 9,
     "metadata": {},
     "output_type": "execute_result"
    }
   ],
   "source": [
    "df['accuracy']"
   ],
   "metadata": {
    "collapsed": false,
    "ExecuteTime": {
     "end_time": "2024-12-11T09:40:16.747570Z",
     "start_time": "2024-12-11T09:40:16.732474Z"
    }
   },
   "id": "fb7dc7be983c5a87",
   "execution_count": 9
  },
  {
   "cell_type": "code",
   "outputs": [],
   "source": [
    "# filter only correct trials\n",
    "df_check=df[df['accuracy']=='correct']"
   ],
   "metadata": {
    "collapsed": false,
    "ExecuteTime": {
     "end_time": "2024-12-11T09:40:17.422370Z",
     "start_time": "2024-12-11T09:40:17.408862Z"
    }
   },
   "id": "5d5ebeb7177219cd",
   "execution_count": 10
  },
  {
   "cell_type": "code",
   "outputs": [
    {
     "data": {
      "text/plain": "awareness g_num  aware  unaware\n0           g01    187      156\n1           g03    250      195\n2           g08    112      265\n3           g10    197      177\n4           g11    242      325\n5           g12    229      246\n6           g15    251      312\n7           g16    213      254\n8           g17    205      328\n9           g19    244      251\n10          g23    309      106\n11          g24    295      231\n12          g25    373      115\n13          g28    198      215\n14          g32    390      220\n15          g33    244      288\n16          g34    250      176\n17          g37    211      348\n18          g38    267      270\n19          g39    180      325\n20          g40    197      217\n21          g41    316      180\n22          g42    308      203\n23          g44    256      311\n24          g45    280      167\n25          g46    230      119\n26          g47    358      235\n27          g49    308      284\n28          g51    202      137\n29          g52    410      301",
      "text/html": "<div>\n<style scoped>\n    .dataframe tbody tr th:only-of-type {\n        vertical-align: middle;\n    }\n\n    .dataframe tbody tr th {\n        vertical-align: top;\n    }\n\n    .dataframe thead th {\n        text-align: right;\n    }\n</style>\n<table border=\"1\" class=\"dataframe\">\n  <thead>\n    <tr style=\"text-align: right;\">\n      <th>awareness</th>\n      <th>g_num</th>\n      <th>aware</th>\n      <th>unaware</th>\n    </tr>\n  </thead>\n  <tbody>\n    <tr>\n      <th>0</th>\n      <td>g01</td>\n      <td>187</td>\n      <td>156</td>\n    </tr>\n    <tr>\n      <th>1</th>\n      <td>g03</td>\n      <td>250</td>\n      <td>195</td>\n    </tr>\n    <tr>\n      <th>2</th>\n      <td>g08</td>\n      <td>112</td>\n      <td>265</td>\n    </tr>\n    <tr>\n      <th>3</th>\n      <td>g10</td>\n      <td>197</td>\n      <td>177</td>\n    </tr>\n    <tr>\n      <th>4</th>\n      <td>g11</td>\n      <td>242</td>\n      <td>325</td>\n    </tr>\n    <tr>\n      <th>5</th>\n      <td>g12</td>\n      <td>229</td>\n      <td>246</td>\n    </tr>\n    <tr>\n      <th>6</th>\n      <td>g15</td>\n      <td>251</td>\n      <td>312</td>\n    </tr>\n    <tr>\n      <th>7</th>\n      <td>g16</td>\n      <td>213</td>\n      <td>254</td>\n    </tr>\n    <tr>\n      <th>8</th>\n      <td>g17</td>\n      <td>205</td>\n      <td>328</td>\n    </tr>\n    <tr>\n      <th>9</th>\n      <td>g19</td>\n      <td>244</td>\n      <td>251</td>\n    </tr>\n    <tr>\n      <th>10</th>\n      <td>g23</td>\n      <td>309</td>\n      <td>106</td>\n    </tr>\n    <tr>\n      <th>11</th>\n      <td>g24</td>\n      <td>295</td>\n      <td>231</td>\n    </tr>\n    <tr>\n      <th>12</th>\n      <td>g25</td>\n      <td>373</td>\n      <td>115</td>\n    </tr>\n    <tr>\n      <th>13</th>\n      <td>g28</td>\n      <td>198</td>\n      <td>215</td>\n    </tr>\n    <tr>\n      <th>14</th>\n      <td>g32</td>\n      <td>390</td>\n      <td>220</td>\n    </tr>\n    <tr>\n      <th>15</th>\n      <td>g33</td>\n      <td>244</td>\n      <td>288</td>\n    </tr>\n    <tr>\n      <th>16</th>\n      <td>g34</td>\n      <td>250</td>\n      <td>176</td>\n    </tr>\n    <tr>\n      <th>17</th>\n      <td>g37</td>\n      <td>211</td>\n      <td>348</td>\n    </tr>\n    <tr>\n      <th>18</th>\n      <td>g38</td>\n      <td>267</td>\n      <td>270</td>\n    </tr>\n    <tr>\n      <th>19</th>\n      <td>g39</td>\n      <td>180</td>\n      <td>325</td>\n    </tr>\n    <tr>\n      <th>20</th>\n      <td>g40</td>\n      <td>197</td>\n      <td>217</td>\n    </tr>\n    <tr>\n      <th>21</th>\n      <td>g41</td>\n      <td>316</td>\n      <td>180</td>\n    </tr>\n    <tr>\n      <th>22</th>\n      <td>g42</td>\n      <td>308</td>\n      <td>203</td>\n    </tr>\n    <tr>\n      <th>23</th>\n      <td>g44</td>\n      <td>256</td>\n      <td>311</td>\n    </tr>\n    <tr>\n      <th>24</th>\n      <td>g45</td>\n      <td>280</td>\n      <td>167</td>\n    </tr>\n    <tr>\n      <th>25</th>\n      <td>g46</td>\n      <td>230</td>\n      <td>119</td>\n    </tr>\n    <tr>\n      <th>26</th>\n      <td>g47</td>\n      <td>358</td>\n      <td>235</td>\n    </tr>\n    <tr>\n      <th>27</th>\n      <td>g49</td>\n      <td>308</td>\n      <td>284</td>\n    </tr>\n    <tr>\n      <th>28</th>\n      <td>g51</td>\n      <td>202</td>\n      <td>137</td>\n    </tr>\n    <tr>\n      <th>29</th>\n      <td>g52</td>\n      <td>410</td>\n      <td>301</td>\n    </tr>\n  </tbody>\n</table>\n</div>"
     },
     "execution_count": 11,
     "metadata": {},
     "output_type": "execute_result"
    }
   ],
   "source": [
    "df_check_piv=df_check.pivot_table(index=['g_num'],columns='awareness',values='RT',aggfunc='count')\n",
    "df_check_piv.reset_index(inplace=True)\n",
    "df_check_piv"
   ],
   "metadata": {
    "collapsed": false,
    "ExecuteTime": {
     "end_time": "2024-12-11T09:40:19.447207Z",
     "start_time": "2024-12-11T09:40:19.422997Z"
    }
   },
   "id": "1e0e80db5bbfe802",
   "execution_count": 11
  },
  {
   "cell_type": "code",
   "outputs": [
    {
     "data": {
      "text/plain": "count     30.000000\nmean     257.066667\nstd       67.655789\nmin      112.000000\n25%      206.500000\n50%      247.000000\n75%      304.750000\nmax      410.000000\nName: aware, dtype: float64"
     },
     "execution_count": 12,
     "metadata": {},
     "output_type": "execute_result"
    }
   ],
   "source": [
    "df_check_piv.aware.describe()"
   ],
   "metadata": {
    "collapsed": false,
    "ExecuteTime": {
     "end_time": "2024-11-11T13:55:04.094069Z",
     "start_time": "2024-11-11T13:55:04.081090Z"
    }
   },
   "id": "c7f5c08e9ea923b7",
   "execution_count": 12
  },
  {
   "cell_type": "markdown",
   "source": [
    "## Create DF which filters out 2.5 centiles from each side of the distribution\n"
   ],
   "metadata": {
    "collapsed": false
   },
   "id": "85b07216445b00d3"
  },
  {
   "cell_type": "code",
   "outputs": [],
   "source": [],
   "metadata": {
    "collapsed": false
   },
   "id": "87c3a43f1cf02e82"
  },
  {
   "cell_type": "code",
   "outputs": [],
   "source": [
    "list_gn=list()\n",
    "for g_n in df['g_num'].unique():\n",
    "    g_df=df[df['g_num']==g_n]\n",
    "    g_df = g_df[(g_df.RT < g_df.RT.quantile(0.975))\n",
    "                & (g_df.RT > g_df.RT.quantile(0.025))]\n",
    "\n",
    "    list_gn.append(g_df)\n",
    "df_filt=pd.concat(list_gn)"
   ],
   "metadata": {
    "collapsed": false,
    "ExecuteTime": {
     "end_time": "2024-12-11T09:40:33.703808Z",
     "start_time": "2024-12-11T09:40:33.650920Z"
    }
   },
   "id": "73790ef2cb45f47f",
   "execution_count": 12
  },
  {
   "cell_type": "code",
   "execution_count": 13,
   "outputs": [
    {
     "data": {
      "text/plain": "Index(['TF', 'RT', 'difficulty', 'accuracy', 'awareness', 'cardiac_phase',\n       'RRI', 'HeartRate', 'HeartRate_post', 'HeartRate_rolling_5_before',\n       'HeartRate_rolling_5_centered', 'HeartRate_rolling_5_after',\n       'HeartRateVar_rolling_10_centered', 'HeartRateVar_rolling_100_centered',\n       'HeartRate_precedent', 'cardiac_peak', 'rsp_phase',\n       'RSP_Rate_precedent', 'rsp_int', 'RSP_Rate', 'RSP_Rate_post',\n       'RSP_Rate_rolling_5_before', 'RSP_Rate_rolling_5_centered',\n       'RSP_Rate_rolling_5_after', 'RspRateVar_rolling_10_centered',\n       'RspRateVar_rolling_100_centered', 'mrk_awa', 'mrk_card_awa',\n       'mrk_rsp_awa', 'R_stim_int', 'inh_stim_int', 'mrk_card_awa_RR',\n       'mrk_rsp_awa_RR', 'signal_type', 'sys_mask', 'stim_idx',\n       'ECG_Phase_Completion_Ventricular', 'ECG_Phase_Completion_Atrial',\n       'RSP_Phase_Completion', 'RSP_Amplitude', 'g_num'],\n      dtype='object')"
     },
     "execution_count": 13,
     "metadata": {},
     "output_type": "execute_result"
    }
   ],
   "source": [
    "df_filt.columns"
   ],
   "metadata": {
    "collapsed": false,
    "ExecuteTime": {
     "end_time": "2024-12-11T09:40:36.638137Z",
     "start_time": "2024-12-11T09:40:36.620368Z"
    }
   },
   "id": "2576a7ba3cc0438f"
  },
  {
   "cell_type": "code",
   "execution_count": 33,
   "outputs": [],
   "source": [],
   "metadata": {
    "collapsed": false,
    "ExecuteTime": {
     "end_time": "2024-04-29T13:41:36.616501Z",
     "start_time": "2024-04-29T13:41:36.615053Z"
    }
   },
   "id": "7baf85b89dfbac3b"
  },
  {
   "cell_type": "code",
   "outputs": [
    {
     "data": {
      "text/plain": "accuracy g_num  correct  mistake\n0          g01      322       75\n1          g03      424      184\n2          g08      360       79\n3          g10      354       21\n4          g11      543       99\n5          g12      450       28\n6          g15      531       43\n7          g16      444      105\n8          g17      505       56\n9          g19      470      102\n10         g23      388       60\n11         g24      496       32\n12         g25      466       11\n13         g28      391       88\n14         g32      582       53\n15         g33      507       65\n16         g34      405       75\n17         g37      526       61\n18         g38      508       37\n19         g39      482       90\n20         g40      395       58\n21         g41      464       35\n22         g42      484       27\n23         g44      541       64\n24         g45      421      156\n25         g46      331       52\n26         g47      563       90\n27         g49      567      121\n28         g51      325       38\n29         g52      680       75",
      "text/html": "<div>\n<style scoped>\n    .dataframe tbody tr th:only-of-type {\n        vertical-align: middle;\n    }\n\n    .dataframe tbody tr th {\n        vertical-align: top;\n    }\n\n    .dataframe thead th {\n        text-align: right;\n    }\n</style>\n<table border=\"1\" class=\"dataframe\">\n  <thead>\n    <tr style=\"text-align: right;\">\n      <th>accuracy</th>\n      <th>g_num</th>\n      <th>correct</th>\n      <th>mistake</th>\n    </tr>\n  </thead>\n  <tbody>\n    <tr>\n      <th>0</th>\n      <td>g01</td>\n      <td>322</td>\n      <td>75</td>\n    </tr>\n    <tr>\n      <th>1</th>\n      <td>g03</td>\n      <td>424</td>\n      <td>184</td>\n    </tr>\n    <tr>\n      <th>2</th>\n      <td>g08</td>\n      <td>360</td>\n      <td>79</td>\n    </tr>\n    <tr>\n      <th>3</th>\n      <td>g10</td>\n      <td>354</td>\n      <td>21</td>\n    </tr>\n    <tr>\n      <th>4</th>\n      <td>g11</td>\n      <td>543</td>\n      <td>99</td>\n    </tr>\n    <tr>\n      <th>5</th>\n      <td>g12</td>\n      <td>450</td>\n      <td>28</td>\n    </tr>\n    <tr>\n      <th>6</th>\n      <td>g15</td>\n      <td>531</td>\n      <td>43</td>\n    </tr>\n    <tr>\n      <th>7</th>\n      <td>g16</td>\n      <td>444</td>\n      <td>105</td>\n    </tr>\n    <tr>\n      <th>8</th>\n      <td>g17</td>\n      <td>505</td>\n      <td>56</td>\n    </tr>\n    <tr>\n      <th>9</th>\n      <td>g19</td>\n      <td>470</td>\n      <td>102</td>\n    </tr>\n    <tr>\n      <th>10</th>\n      <td>g23</td>\n      <td>388</td>\n      <td>60</td>\n    </tr>\n    <tr>\n      <th>11</th>\n      <td>g24</td>\n      <td>496</td>\n      <td>32</td>\n    </tr>\n    <tr>\n      <th>12</th>\n      <td>g25</td>\n      <td>466</td>\n      <td>11</td>\n    </tr>\n    <tr>\n      <th>13</th>\n      <td>g28</td>\n      <td>391</td>\n      <td>88</td>\n    </tr>\n    <tr>\n      <th>14</th>\n      <td>g32</td>\n      <td>582</td>\n      <td>53</td>\n    </tr>\n    <tr>\n      <th>15</th>\n      <td>g33</td>\n      <td>507</td>\n      <td>65</td>\n    </tr>\n    <tr>\n      <th>16</th>\n      <td>g34</td>\n      <td>405</td>\n      <td>75</td>\n    </tr>\n    <tr>\n      <th>17</th>\n      <td>g37</td>\n      <td>526</td>\n      <td>61</td>\n    </tr>\n    <tr>\n      <th>18</th>\n      <td>g38</td>\n      <td>508</td>\n      <td>37</td>\n    </tr>\n    <tr>\n      <th>19</th>\n      <td>g39</td>\n      <td>482</td>\n      <td>90</td>\n    </tr>\n    <tr>\n      <th>20</th>\n      <td>g40</td>\n      <td>395</td>\n      <td>58</td>\n    </tr>\n    <tr>\n      <th>21</th>\n      <td>g41</td>\n      <td>464</td>\n      <td>35</td>\n    </tr>\n    <tr>\n      <th>22</th>\n      <td>g42</td>\n      <td>484</td>\n      <td>27</td>\n    </tr>\n    <tr>\n      <th>23</th>\n      <td>g44</td>\n      <td>541</td>\n      <td>64</td>\n    </tr>\n    <tr>\n      <th>24</th>\n      <td>g45</td>\n      <td>421</td>\n      <td>156</td>\n    </tr>\n    <tr>\n      <th>25</th>\n      <td>g46</td>\n      <td>331</td>\n      <td>52</td>\n    </tr>\n    <tr>\n      <th>26</th>\n      <td>g47</td>\n      <td>563</td>\n      <td>90</td>\n    </tr>\n    <tr>\n      <th>27</th>\n      <td>g49</td>\n      <td>567</td>\n      <td>121</td>\n    </tr>\n    <tr>\n      <th>28</th>\n      <td>g51</td>\n      <td>325</td>\n      <td>38</td>\n    </tr>\n    <tr>\n      <th>29</th>\n      <td>g52</td>\n      <td>680</td>\n      <td>75</td>\n    </tr>\n  </tbody>\n</table>\n</div>"
     },
     "execution_count": 14,
     "metadata": {},
     "output_type": "execute_result"
    }
   ],
   "source": [
    "pivot_acc=df_filt.pivot_table(index=['g_num'],columns='accuracy',values='RT',aggfunc='count')\n",
    "pivot_acc.reset_index(inplace=True)\n",
    "pivot_acc"
   ],
   "metadata": {
    "collapsed": false,
    "ExecuteTime": {
     "end_time": "2024-12-11T09:40:38.203016Z",
     "start_time": "2024-12-11T09:40:38.183100Z"
    }
   },
   "id": "8f9404b485e810d0",
   "execution_count": 14
  },
  {
   "cell_type": "code",
   "outputs": [],
   "source": [
    "#generate column with % of accurate trials\n",
    "pivot_acc['corr_percentage']=pivot_acc['correct']/(pivot_acc['correct']+pivot_acc['mistake'])"
   ],
   "metadata": {
    "collapsed": false,
    "ExecuteTime": {
     "end_time": "2024-11-11T13:55:20.244334Z",
     "start_time": "2024-11-11T13:55:20.231277Z"
    }
   },
   "id": "5e7b29173c1bfe3a",
   "execution_count": 16
  },
  {
   "cell_type": "code",
   "outputs": [
    {
     "data": {
      "text/plain": "count    30.000000\nmean      0.871698\nstd       0.063801\nmin       0.697368\n25%       0.828760\n50%       0.879164\n75%       0.922949\nmax       0.976939\nName: corr_percentage, dtype: float64"
     },
     "execution_count": 89,
     "metadata": {},
     "output_type": "execute_result"
    }
   ],
   "source": [
    "pivot_acc['corr_percentage'].describe()"
   ],
   "metadata": {
    "collapsed": false,
    "ExecuteTime": {
     "end_time": "2024-04-29T14:36:22.682666Z",
     "start_time": "2024-04-29T14:36:22.668604Z"
    }
   },
   "id": "121e387adef98bd2",
   "execution_count": 89
  },
  {
   "cell_type": "code",
   "outputs": [
    {
     "data": {
      "text/plain": "0     0.822261\n1     0.708304\n2     0.819949\n3     0.953451\n4     0.837227\n5     0.933841\n6     0.924855\n7     0.798169\n8     0.897028\n9     0.814270\n10    0.867654\n11    0.933309\n12    0.969499\n13    0.812237\n14    0.912714\n15    0.878299\n16    0.835132\n17    0.895897\n18    0.936237\n19    0.838697\n20    0.876869\n21    0.928971\n22    0.944186\n23    0.894068\n24    0.726499\n25    0.860082\n26    0.826482\n27    0.816073\n28    0.886538\n29    0.877897\nName: corr_percentage, dtype: float64"
     },
     "execution_count": 59,
     "metadata": {},
     "output_type": "execute_result"
    }
   ],
   "source": [
    "pivot_acc['corr_percentage']"
   ],
   "metadata": {
    "collapsed": false,
    "ExecuteTime": {
     "end_time": "2024-04-29T13:58:04.133755Z",
     "start_time": "2024-04-29T13:58:04.080876Z"
    }
   },
   "id": "51991219122a556b",
   "execution_count": 59
  },
  {
   "cell_type": "markdown",
   "source": [
    "## awareness \n",
    "for the awareness it is important to remove the mistakes "
   ],
   "metadata": {
    "collapsed": false
   },
   "id": "28d0314ae351c2ed"
  },
  {
   "cell_type": "code",
   "outputs": [],
   "source": [
    "df_filt=df_filt[df_filt['accuracy']=='correct']\n"
   ],
   "metadata": {
    "collapsed": false,
    "ExecuteTime": {
     "end_time": "2024-11-11T13:56:04.935295Z",
     "start_time": "2024-11-11T13:56:04.910763Z"
    }
   },
   "id": "cd8f14f91cb18b18",
   "execution_count": 17
  },
  {
   "cell_type": "code",
   "outputs": [],
   "source": [
    "import feather\n",
    "#saves\n",
    "path='ana/behavioral/df_o_quantilefilt.feather'\n",
    "\n",
    "feather.write_dataframe(df_filt,path)"
   ],
   "metadata": {
    "collapsed": false,
    "ExecuteTime": {
     "end_time": "2024-12-11T10:02:51.288166Z",
     "start_time": "2024-12-11T10:02:48.108338Z"
    }
   },
   "id": "1c96cbf17af5c1b3",
   "execution_count": 28
  },
  {
   "cell_type": "code",
   "outputs": [
    {
     "name": "stdout",
     "output_type": "stream",
     "text": [
      "g01\n",
      "g03\n",
      "g08\n",
      "g10\n",
      "g11\n"
     ]
    }
   ],
   "source": [
    "%matplotlib qt\n",
    "for g_n in df_filt['g_num'].unique()[:5]:\n",
    "    print(g_n)\n",
    "    g_df=df_filt[df_filt['g_num']==g_n]\n",
    "    plt.figure()\n",
    "    sns.boxplot(data=g_df,y='RT')\n",
    "\n"
   ],
   "metadata": {
    "collapsed": false,
    "ExecuteTime": {
     "end_time": "2024-12-11T09:53:23.572256Z",
     "start_time": "2024-12-11T09:53:23.459257Z"
    }
   },
   "id": "f6d359de5184eadc",
   "execution_count": 26
  },
  {
   "cell_type": "code",
   "outputs": [
    {
     "data": {
      "text/plain": "awareness g_num  aware  unaware\n0           g01    177      145\n1           g03    244      180\n2           g08    101      259\n3           g10    183      171\n4           g11    236      307\n5           g12    219      231\n6           g15    239      292\n7           g16    208      236\n8           g17    193      312\n9           g19    231      239\n10          g23    286      102\n11          g24    273      223\n12          g25    357      109\n13          g28    185      206\n14          g32    369      213\n15          g33    240      267\n16          g34    234      171\n17          g37    193      333\n18          g38    251      257\n19          g39    163      319\n20          g40    186      209\n21          g41    299      165\n22          g42    292      192\n23          g44    239      302\n24          g45    264      157\n25          g46    216      115\n26          g47    335      228\n27          g49    296      271\n28          g51    192      133\n29          g52    391      289",
      "text/html": "<div>\n<style scoped>\n    .dataframe tbody tr th:only-of-type {\n        vertical-align: middle;\n    }\n\n    .dataframe tbody tr th {\n        vertical-align: top;\n    }\n\n    .dataframe thead th {\n        text-align: right;\n    }\n</style>\n<table border=\"1\" class=\"dataframe\">\n  <thead>\n    <tr style=\"text-align: right;\">\n      <th>awareness</th>\n      <th>g_num</th>\n      <th>aware</th>\n      <th>unaware</th>\n    </tr>\n  </thead>\n  <tbody>\n    <tr>\n      <th>0</th>\n      <td>g01</td>\n      <td>177</td>\n      <td>145</td>\n    </tr>\n    <tr>\n      <th>1</th>\n      <td>g03</td>\n      <td>244</td>\n      <td>180</td>\n    </tr>\n    <tr>\n      <th>2</th>\n      <td>g08</td>\n      <td>101</td>\n      <td>259</td>\n    </tr>\n    <tr>\n      <th>3</th>\n      <td>g10</td>\n      <td>183</td>\n      <td>171</td>\n    </tr>\n    <tr>\n      <th>4</th>\n      <td>g11</td>\n      <td>236</td>\n      <td>307</td>\n    </tr>\n    <tr>\n      <th>5</th>\n      <td>g12</td>\n      <td>219</td>\n      <td>231</td>\n    </tr>\n    <tr>\n      <th>6</th>\n      <td>g15</td>\n      <td>239</td>\n      <td>292</td>\n    </tr>\n    <tr>\n      <th>7</th>\n      <td>g16</td>\n      <td>208</td>\n      <td>236</td>\n    </tr>\n    <tr>\n      <th>8</th>\n      <td>g17</td>\n      <td>193</td>\n      <td>312</td>\n    </tr>\n    <tr>\n      <th>9</th>\n      <td>g19</td>\n      <td>231</td>\n      <td>239</td>\n    </tr>\n    <tr>\n      <th>10</th>\n      <td>g23</td>\n      <td>286</td>\n      <td>102</td>\n    </tr>\n    <tr>\n      <th>11</th>\n      <td>g24</td>\n      <td>273</td>\n      <td>223</td>\n    </tr>\n    <tr>\n      <th>12</th>\n      <td>g25</td>\n      <td>357</td>\n      <td>109</td>\n    </tr>\n    <tr>\n      <th>13</th>\n      <td>g28</td>\n      <td>185</td>\n      <td>206</td>\n    </tr>\n    <tr>\n      <th>14</th>\n      <td>g32</td>\n      <td>369</td>\n      <td>213</td>\n    </tr>\n    <tr>\n      <th>15</th>\n      <td>g33</td>\n      <td>240</td>\n      <td>267</td>\n    </tr>\n    <tr>\n      <th>16</th>\n      <td>g34</td>\n      <td>234</td>\n      <td>171</td>\n    </tr>\n    <tr>\n      <th>17</th>\n      <td>g37</td>\n      <td>193</td>\n      <td>333</td>\n    </tr>\n    <tr>\n      <th>18</th>\n      <td>g38</td>\n      <td>251</td>\n      <td>257</td>\n    </tr>\n    <tr>\n      <th>19</th>\n      <td>g39</td>\n      <td>163</td>\n      <td>319</td>\n    </tr>\n    <tr>\n      <th>20</th>\n      <td>g40</td>\n      <td>186</td>\n      <td>209</td>\n    </tr>\n    <tr>\n      <th>21</th>\n      <td>g41</td>\n      <td>299</td>\n      <td>165</td>\n    </tr>\n    <tr>\n      <th>22</th>\n      <td>g42</td>\n      <td>292</td>\n      <td>192</td>\n    </tr>\n    <tr>\n      <th>23</th>\n      <td>g44</td>\n      <td>239</td>\n      <td>302</td>\n    </tr>\n    <tr>\n      <th>24</th>\n      <td>g45</td>\n      <td>264</td>\n      <td>157</td>\n    </tr>\n    <tr>\n      <th>25</th>\n      <td>g46</td>\n      <td>216</td>\n      <td>115</td>\n    </tr>\n    <tr>\n      <th>26</th>\n      <td>g47</td>\n      <td>335</td>\n      <td>228</td>\n    </tr>\n    <tr>\n      <th>27</th>\n      <td>g49</td>\n      <td>296</td>\n      <td>271</td>\n    </tr>\n    <tr>\n      <th>28</th>\n      <td>g51</td>\n      <td>192</td>\n      <td>133</td>\n    </tr>\n    <tr>\n      <th>29</th>\n      <td>g52</td>\n      <td>391</td>\n      <td>289</td>\n    </tr>\n  </tbody>\n</table>\n</div>"
     },
     "execution_count": 18,
     "metadata": {},
     "output_type": "execute_result"
    }
   ],
   "source": [
    "df_pivot=df_filt.pivot_table(index=['g_num'],columns='awareness',values='RT',aggfunc='count')\n",
    "df_pivot.reset_index(inplace=True)\n",
    "df_pivot"
   ],
   "metadata": {
    "collapsed": false,
    "ExecuteTime": {
     "end_time": "2024-11-11T13:56:08.150440Z",
     "start_time": "2024-11-11T13:56:08.132547Z"
    }
   },
   "id": "9f6ae73ca781b562",
   "execution_count": 18
  },
  {
   "cell_type": "code",
   "outputs": [
    {
     "data": {
      "text/plain": "count     30.000000\nmean     243.066667\nstd       64.972107\nmin      101.000000\n25%      193.000000\n50%      237.500000\n75%      282.750000\nmax      391.000000\nName: aware, dtype: float64"
     },
     "execution_count": 19,
     "metadata": {},
     "output_type": "execute_result"
    }
   ],
   "source": [
    "df_pivot.aware.describe()"
   ],
   "metadata": {
    "collapsed": false,
    "ExecuteTime": {
     "end_time": "2024-11-11T13:56:14.936997Z",
     "start_time": "2024-11-11T13:56:14.922312Z"
    }
   },
   "id": "77839d36aa16edf9",
   "execution_count": 19
  },
  {
   "cell_type": "code",
   "outputs": [
    {
     "data": {
      "text/plain": "0     0.549689\n1     0.575472\n2     0.280556\n3     0.516949\n4     0.434622\n5     0.486667\n6     0.450094\n7     0.468468\n8     0.382178\n9     0.491489\n10    0.737113\n11    0.550403\n12    0.766094\n13    0.473146\n14    0.634021\n15    0.473373\n16    0.577778\n17    0.366920\n18    0.494094\n19    0.338174\n20    0.470886\n21    0.644397\n22    0.603306\n23    0.441774\n24    0.627078\n25    0.652568\n26    0.595027\n27    0.522046\n28    0.590769\n29    0.575000\nName: awa_ratio, dtype: float64"
     },
     "execution_count": 20,
     "metadata": {},
     "output_type": "execute_result"
    }
   ],
   "source": [
    "df_pivot['awa_ratio']=df_pivot['aware']/(df_pivot['aware']+df_pivot['unaware'])\n",
    "df_pivot['awa_ratio']"
   ],
   "metadata": {
    "collapsed": false,
    "ExecuteTime": {
     "end_time": "2024-11-11T13:56:25.932367Z",
     "start_time": "2024-11-11T13:56:25.918317Z"
    }
   },
   "id": "32c8bb136cfa9ed",
   "execution_count": 20
  },
  {
   "cell_type": "code",
   "outputs": [
    {
     "data": {
      "text/plain": "count    30.000000\nmean      0.525672\nstd       0.110833\nmin       0.280556\n25%       0.469073\n50%       0.519498\n75%       0.593962\nmax       0.766094\nName: awa_ratio, dtype: float64"
     },
     "execution_count": 21,
     "metadata": {},
     "output_type": "execute_result"
    }
   ],
   "source": [
    "df_pivot['awa_ratio'].describe()"
   ],
   "metadata": {
    "collapsed": false,
    "ExecuteTime": {
     "end_time": "2024-11-11T13:56:27.048483Z",
     "start_time": "2024-11-11T13:56:27.034670Z"
    }
   },
   "id": "579c45d0f07368c6",
   "execution_count": 21
  },
  {
   "cell_type": "code",
   "execution_count": 22,
   "outputs": [],
   "source": [
    "df_pivot=df_filt.pivot_table(index=['g_num','awareness'],values=['RT'])\n",
    "df_pivot.reset_index(inplace=True)"
   ],
   "metadata": {
    "collapsed": false,
    "ExecuteTime": {
     "end_time": "2024-11-11T13:56:39.511262Z",
     "start_time": "2024-11-11T13:56:39.495623Z"
    }
   },
   "id": "f6f868a84fbdd689"
  },
  {
   "cell_type": "code",
   "execution_count": 23,
   "outputs": [
    {
     "data": {
      "text/plain": "count      30.000000\nmean      736.910816\nstd       155.199079\nmin       526.387162\n25%       613.572391\n50%       722.294055\n75%       806.170295\nmax      1242.441028\nName: RT, dtype: float64"
     },
     "execution_count": 23,
     "metadata": {},
     "output_type": "execute_result"
    }
   ],
   "source": [
    "df_pivot[df_pivot['awareness']=='aware'].RT.describe()"
   ],
   "metadata": {
    "collapsed": false,
    "ExecuteTime": {
     "end_time": "2024-11-11T13:56:40.106962Z",
     "start_time": "2024-11-11T13:56:40.093747Z"
    }
   },
   "id": "5e247d76e73e3fee"
  },
  {
   "cell_type": "code",
   "execution_count": null,
   "outputs": [],
   "source": [],
   "metadata": {
    "collapsed": false
   },
   "id": "61c2b8613558fa5a"
  },
  {
   "cell_type": "code",
   "execution_count": 24,
   "outputs": [
    {
     "data": {
      "text/plain": "count      30.000000\nmean      935.533599\nstd       353.364180\nmin       605.293974\n25%       752.355941\n50%       847.719309\n75%       961.959638\nmax      2257.152887\nName: RT, dtype: float64"
     },
     "execution_count": 24,
     "metadata": {},
     "output_type": "execute_result"
    }
   ],
   "source": [
    "df_pivot[df_pivot['awareness']=='unaware'].RT.describe()"
   ],
   "metadata": {
    "collapsed": false,
    "ExecuteTime": {
     "end_time": "2024-11-11T13:57:33.154618Z",
     "start_time": "2024-11-11T13:57:33.139947Z"
    }
   },
   "id": "53fed09a4b558a75"
  },
  {
   "cell_type": "markdown",
   "source": [
    "## cardiac phase statistics\n",
    "anovas + post-hoc contrasts as a function of awareness and cardiac phase"
   ],
   "metadata": {
    "collapsed": false
   },
   "id": "37942b925e5adbd"
  },
  {
   "cell_type": "code",
   "outputs": [],
   "source": [
    "df_pivot_card=df_filt.pivot_table(index=['g_num','awareness','cardiac_phase'],values=['RT'])\n",
    "df_pivot_card.reset_index(inplace=True)"
   ],
   "metadata": {
    "collapsed": false,
    "ExecuteTime": {
     "end_time": "2024-11-11T13:57:43.460500Z",
     "start_time": "2024-11-11T13:57:43.444298Z"
    }
   },
   "id": "c1a120e269acd90f",
   "execution_count": 25
  },
  {
   "cell_type": "code",
   "outputs": [
    {
     "data": {
      "text/plain": "    g_num awareness cardiac_phase          RT\n0     g01     aware           dia  705.057085\n1     g01     aware           sys  696.924508\n2     g01   unaware           dia  760.073283\n3     g01   unaware           sys  767.364231\n4     g03     aware           dia  813.804688\n..    ...       ...           ...         ...\n115   g51   unaware           sys  750.067909\n116   g52     aware           dia  572.186087\n117   g52     aware           sys  580.307699\n118   g52   unaware           dia  687.530349\n119   g52   unaware           sys  686.919418\n\n[120 rows x 4 columns]",
      "text/html": "<div>\n<style scoped>\n    .dataframe tbody tr th:only-of-type {\n        vertical-align: middle;\n    }\n\n    .dataframe tbody tr th {\n        vertical-align: top;\n    }\n\n    .dataframe thead th {\n        text-align: right;\n    }\n</style>\n<table border=\"1\" class=\"dataframe\">\n  <thead>\n    <tr style=\"text-align: right;\">\n      <th></th>\n      <th>g_num</th>\n      <th>awareness</th>\n      <th>cardiac_phase</th>\n      <th>RT</th>\n    </tr>\n  </thead>\n  <tbody>\n    <tr>\n      <th>0</th>\n      <td>g01</td>\n      <td>aware</td>\n      <td>dia</td>\n      <td>705.057085</td>\n    </tr>\n    <tr>\n      <th>1</th>\n      <td>g01</td>\n      <td>aware</td>\n      <td>sys</td>\n      <td>696.924508</td>\n    </tr>\n    <tr>\n      <th>2</th>\n      <td>g01</td>\n      <td>unaware</td>\n      <td>dia</td>\n      <td>760.073283</td>\n    </tr>\n    <tr>\n      <th>3</th>\n      <td>g01</td>\n      <td>unaware</td>\n      <td>sys</td>\n      <td>767.364231</td>\n    </tr>\n    <tr>\n      <th>4</th>\n      <td>g03</td>\n      <td>aware</td>\n      <td>dia</td>\n      <td>813.804688</td>\n    </tr>\n    <tr>\n      <th>...</th>\n      <td>...</td>\n      <td>...</td>\n      <td>...</td>\n      <td>...</td>\n    </tr>\n    <tr>\n      <th>115</th>\n      <td>g51</td>\n      <td>unaware</td>\n      <td>sys</td>\n      <td>750.067909</td>\n    </tr>\n    <tr>\n      <th>116</th>\n      <td>g52</td>\n      <td>aware</td>\n      <td>dia</td>\n      <td>572.186087</td>\n    </tr>\n    <tr>\n      <th>117</th>\n      <td>g52</td>\n      <td>aware</td>\n      <td>sys</td>\n      <td>580.307699</td>\n    </tr>\n    <tr>\n      <th>118</th>\n      <td>g52</td>\n      <td>unaware</td>\n      <td>dia</td>\n      <td>687.530349</td>\n    </tr>\n    <tr>\n      <th>119</th>\n      <td>g52</td>\n      <td>unaware</td>\n      <td>sys</td>\n      <td>686.919418</td>\n    </tr>\n  </tbody>\n</table>\n<p>120 rows × 4 columns</p>\n</div>"
     },
     "execution_count": 26,
     "metadata": {},
     "output_type": "execute_result"
    }
   ],
   "source": [
    "df_pivot_card"
   ],
   "metadata": {
    "collapsed": false,
    "ExecuteTime": {
     "end_time": "2024-11-11T13:57:44.241085Z",
     "start_time": "2024-11-11T13:57:44.226508Z"
    }
   },
   "id": "5af70c3b8a813f8",
   "execution_count": 26
  },
  {
   "cell_type": "code",
   "execution_count": 27,
   "outputs": [
    {
     "name": "stderr",
     "output_type": "stream",
     "text": [
      "/opt/anaconda3/envs/mne/lib/python3.12/site-packages/pingouin/distribution.py:507: FutureWarning: DataFrame.groupby with axis=1 is deprecated. Do `frame.T.groupby(...)` without axis instead.\n",
      "  data.groupby(level=1, axis=1, observed=True, group_keys=False)\n",
      "/opt/anaconda3/envs/mne/lib/python3.12/site-packages/pingouin/distribution.py:508: FutureWarning: DataFrameGroupBy.diff with axis=1 is deprecated and will be removed in a future version. Operate on the un-grouped DataFrame instead\n",
      "  .diff(axis=1)\n"
     ]
    },
    {
     "data": {
      "text/plain": "                      Source            SS  ddof1  ddof2            MS  \\\n0              cardiac_phase  1.855308e+03      1     29  1.855308e+03   \n1                  awareness  1.181407e+06      1     29  1.181407e+06   \n2  cardiac_phase * awareness  3.174584e+01      1     29  3.174584e+01   \n\n           F     p-unc  p-GG-corr       ng2  eps  \n0   1.236584  0.275264   0.275264  0.000212  1.0  \n1  22.064577  0.000059   0.000059  0.119178  1.0  \n2   0.067974  0.796152   0.796152  0.000004  1.0  ",
      "text/html": "<div>\n<style scoped>\n    .dataframe tbody tr th:only-of-type {\n        vertical-align: middle;\n    }\n\n    .dataframe tbody tr th {\n        vertical-align: top;\n    }\n\n    .dataframe thead th {\n        text-align: right;\n    }\n</style>\n<table border=\"1\" class=\"dataframe\">\n  <thead>\n    <tr style=\"text-align: right;\">\n      <th></th>\n      <th>Source</th>\n      <th>SS</th>\n      <th>ddof1</th>\n      <th>ddof2</th>\n      <th>MS</th>\n      <th>F</th>\n      <th>p-unc</th>\n      <th>p-GG-corr</th>\n      <th>ng2</th>\n      <th>eps</th>\n    </tr>\n  </thead>\n  <tbody>\n    <tr>\n      <th>0</th>\n      <td>cardiac_phase</td>\n      <td>1.855308e+03</td>\n      <td>1</td>\n      <td>29</td>\n      <td>1.855308e+03</td>\n      <td>1.236584</td>\n      <td>0.275264</td>\n      <td>0.275264</td>\n      <td>0.000212</td>\n      <td>1.0</td>\n    </tr>\n    <tr>\n      <th>1</th>\n      <td>awareness</td>\n      <td>1.181407e+06</td>\n      <td>1</td>\n      <td>29</td>\n      <td>1.181407e+06</td>\n      <td>22.064577</td>\n      <td>0.000059</td>\n      <td>0.000059</td>\n      <td>0.119178</td>\n      <td>1.0</td>\n    </tr>\n    <tr>\n      <th>2</th>\n      <td>cardiac_phase * awareness</td>\n      <td>3.174584e+01</td>\n      <td>1</td>\n      <td>29</td>\n      <td>3.174584e+01</td>\n      <td>0.067974</td>\n      <td>0.796152</td>\n      <td>0.796152</td>\n      <td>0.000004</td>\n      <td>1.0</td>\n    </tr>\n  </tbody>\n</table>\n</div>"
     },
     "execution_count": 27,
     "metadata": {},
     "output_type": "execute_result"
    }
   ],
   "source": [
    "\n",
    "pg.rm_anova(data=df_pivot_card,dv='RT',within=['cardiac_phase','awareness'],subject='g_num')"
   ],
   "metadata": {
    "collapsed": false,
    "ExecuteTime": {
     "end_time": "2024-11-11T13:57:46.917225Z",
     "start_time": "2024-11-11T13:57:46.888401Z"
    }
   },
   "id": "49c9c2c46fa55adf"
  },
  {
   "cell_type": "code",
   "execution_count": 59,
   "outputs": [],
   "source": [],
   "metadata": {
    "collapsed": false,
    "ExecuteTime": {
     "start_time": "2023-05-11T09:17:27.132483Z",
     "end_time": "2023-05-11T09:17:27.170234Z"
    }
   },
   "id": "5f78696b844c2136"
  },
  {
   "cell_type": "code",
   "execution_count": 111,
   "outputs": [
    {
     "name": "stderr",
     "output_type": "stream",
     "text": [
      "/opt/anaconda3/envs/mne/lib/python3.12/site-packages/pingouin/pairwise.py:593: FutureWarning: A value is trying to be set on a copy of a DataFrame or Series through chained assignment using an inplace method.\n",
      "The behavior will change in pandas 3.0. This inplace method will never work because the intermediate object on which we are setting values always behaves as a copy.\n",
      "\n",
      "For example, when doing 'df[col].method(value, inplace=True)', try using 'df.method({col: value}, inplace=True)' or df[col] = df[col].method(value) instead, to perform the operation inplace on the original object.\n",
      "\n",
      "\n",
      "  stats[\"Time\"].fillna(\"-\", inplace=True)\n"
     ]
    },
    {
     "data": {
      "text/plain": "                    Contrast awareness      A        B Paired Parametric  \\\n0                  awareness         -  aware  unaware   True       True   \n1              cardiac_phase         -    dia      sys   True       True   \n2  awareness * cardiac_phase     aware    dia      sys   True       True   \n3  awareness * cardiac_phase   unaware    dia      sys   True       True   \n\n          T   dof alternative     p-unc    p-corr p-adjust     BF10    hedges  \n0 -4.697295  29.0   two-sided  0.000059       NaN      NaN  419.698 -0.716257  \n1 -1.112018  29.0   two-sided  0.275264       NaN      NaN    0.341 -0.031231  \n2 -1.327389  29.0   two-sided  0.194736  0.389471   fdr_bh     0.43 -0.043296  \n3 -0.869331  29.0   two-sided  0.391805  0.391805   fdr_bh    0.275 -0.024701  ",
      "text/html": "<div>\n<style scoped>\n    .dataframe tbody tr th:only-of-type {\n        vertical-align: middle;\n    }\n\n    .dataframe tbody tr th {\n        vertical-align: top;\n    }\n\n    .dataframe thead th {\n        text-align: right;\n    }\n</style>\n<table border=\"1\" class=\"dataframe\">\n  <thead>\n    <tr style=\"text-align: right;\">\n      <th></th>\n      <th>Contrast</th>\n      <th>awareness</th>\n      <th>A</th>\n      <th>B</th>\n      <th>Paired</th>\n      <th>Parametric</th>\n      <th>T</th>\n      <th>dof</th>\n      <th>alternative</th>\n      <th>p-unc</th>\n      <th>p-corr</th>\n      <th>p-adjust</th>\n      <th>BF10</th>\n      <th>hedges</th>\n    </tr>\n  </thead>\n  <tbody>\n    <tr>\n      <th>0</th>\n      <td>awareness</td>\n      <td>-</td>\n      <td>aware</td>\n      <td>unaware</td>\n      <td>True</td>\n      <td>True</td>\n      <td>-4.697295</td>\n      <td>29.0</td>\n      <td>two-sided</td>\n      <td>0.000059</td>\n      <td>NaN</td>\n      <td>NaN</td>\n      <td>419.698</td>\n      <td>-0.716257</td>\n    </tr>\n    <tr>\n      <th>1</th>\n      <td>cardiac_phase</td>\n      <td>-</td>\n      <td>dia</td>\n      <td>sys</td>\n      <td>True</td>\n      <td>True</td>\n      <td>-1.112018</td>\n      <td>29.0</td>\n      <td>two-sided</td>\n      <td>0.275264</td>\n      <td>NaN</td>\n      <td>NaN</td>\n      <td>0.341</td>\n      <td>-0.031231</td>\n    </tr>\n    <tr>\n      <th>2</th>\n      <td>awareness * cardiac_phase</td>\n      <td>aware</td>\n      <td>dia</td>\n      <td>sys</td>\n      <td>True</td>\n      <td>True</td>\n      <td>-1.327389</td>\n      <td>29.0</td>\n      <td>two-sided</td>\n      <td>0.194736</td>\n      <td>0.389471</td>\n      <td>fdr_bh</td>\n      <td>0.43</td>\n      <td>-0.043296</td>\n    </tr>\n    <tr>\n      <th>3</th>\n      <td>awareness * cardiac_phase</td>\n      <td>unaware</td>\n      <td>dia</td>\n      <td>sys</td>\n      <td>True</td>\n      <td>True</td>\n      <td>-0.869331</td>\n      <td>29.0</td>\n      <td>two-sided</td>\n      <td>0.391805</td>\n      <td>0.391805</td>\n      <td>fdr_bh</td>\n      <td>0.275</td>\n      <td>-0.024701</td>\n    </tr>\n  </tbody>\n</table>\n</div>"
     },
     "execution_count": 111,
     "metadata": {},
     "output_type": "execute_result"
    }
   ],
   "source": [
    "pg.pairwise_tests(data=df_pivot_card,dv='RT',within=['awareness','cardiac_phase'],subject='g_num', padjust='fdr_bh')"
   ],
   "metadata": {
    "collapsed": false,
    "ExecuteTime": {
     "end_time": "2024-04-29T14:58:50.766767Z",
     "start_time": "2024-04-29T14:58:50.689376Z"
    }
   },
   "id": "68bf5531532b57b"
  },
  {
   "cell_type": "code",
   "execution_count": 64,
   "outputs": [
    {
     "data": {
      "text/plain": "                    Contrast awareness      A        B Paired  Parametric  \\\n0                  awareness         -  aware  unaware   True        True   \n1              cardiac_phase         -    dia      sys   True        True   \n2  awareness * cardiac_phase     aware    dia      sys   True        True   \n3  awareness * cardiac_phase   unaware    dia      sys   True        True   \n\n          T   dof alternative     p-unc    p-corr p-adjust      BF10    hedges  \n0 -5.865080  29.0   two-sided  0.000002       NaN      NaN  8139.227 -0.905427  \n1 -1.470097  29.0   two-sided  0.152302       NaN      NaN     0.512 -0.065844  \n2  0.141181  29.0   two-sided  0.888703  0.888703   fdr_bh     0.196  0.008126  \n3 -1.868739  29.0   two-sided  0.071791  0.143581   fdr_bh       0.9 -0.094880  ",
      "text/html": "<div>\n<style scoped>\n    .dataframe tbody tr th:only-of-type {\n        vertical-align: middle;\n    }\n\n    .dataframe tbody tr th {\n        vertical-align: top;\n    }\n\n    .dataframe thead th {\n        text-align: right;\n    }\n</style>\n<table border=\"1\" class=\"dataframe\">\n  <thead>\n    <tr style=\"text-align: right;\">\n      <th></th>\n      <th>Contrast</th>\n      <th>awareness</th>\n      <th>A</th>\n      <th>B</th>\n      <th>Paired</th>\n      <th>Parametric</th>\n      <th>T</th>\n      <th>dof</th>\n      <th>alternative</th>\n      <th>p-unc</th>\n      <th>p-corr</th>\n      <th>p-adjust</th>\n      <th>BF10</th>\n      <th>hedges</th>\n    </tr>\n  </thead>\n  <tbody>\n    <tr>\n      <th>0</th>\n      <td>awareness</td>\n      <td>-</td>\n      <td>aware</td>\n      <td>unaware</td>\n      <td>True</td>\n      <td>True</td>\n      <td>-5.865080</td>\n      <td>29.0</td>\n      <td>two-sided</td>\n      <td>0.000002</td>\n      <td>NaN</td>\n      <td>NaN</td>\n      <td>8139.227</td>\n      <td>-0.905427</td>\n    </tr>\n    <tr>\n      <th>1</th>\n      <td>cardiac_phase</td>\n      <td>-</td>\n      <td>dia</td>\n      <td>sys</td>\n      <td>True</td>\n      <td>True</td>\n      <td>-1.470097</td>\n      <td>29.0</td>\n      <td>two-sided</td>\n      <td>0.152302</td>\n      <td>NaN</td>\n      <td>NaN</td>\n      <td>0.512</td>\n      <td>-0.065844</td>\n    </tr>\n    <tr>\n      <th>2</th>\n      <td>awareness * cardiac_phase</td>\n      <td>aware</td>\n      <td>dia</td>\n      <td>sys</td>\n      <td>True</td>\n      <td>True</td>\n      <td>0.141181</td>\n      <td>29.0</td>\n      <td>two-sided</td>\n      <td>0.888703</td>\n      <td>0.888703</td>\n      <td>fdr_bh</td>\n      <td>0.196</td>\n      <td>0.008126</td>\n    </tr>\n    <tr>\n      <th>3</th>\n      <td>awareness * cardiac_phase</td>\n      <td>unaware</td>\n      <td>dia</td>\n      <td>sys</td>\n      <td>True</td>\n      <td>True</td>\n      <td>-1.868739</td>\n      <td>29.0</td>\n      <td>two-sided</td>\n      <td>0.071791</td>\n      <td>0.143581</td>\n      <td>fdr_bh</td>\n      <td>0.9</td>\n      <td>-0.094880</td>\n    </tr>\n  </tbody>\n</table>\n</div>"
     },
     "execution_count": 64,
     "metadata": {},
     "output_type": "execute_result"
    }
   ],
   "source": [
    "pg.pairwise_tests(data=df_pivot_card,dv='RT',within=['awareness','cardiac_phase'],subject='g_num', padjust='fdr_bh')"
   ],
   "metadata": {
    "collapsed": false,
    "ExecuteTime": {
     "start_time": "2023-05-11T09:20:40.647918Z",
     "end_time": "2023-05-11T09:20:40.799863Z"
    }
   },
   "id": "4cee39e430ff713a"
  },
  {
   "cell_type": "markdown",
   "source": [
    "## rsp phase statistics\n",
    "anovas + post-hoc contrasts as a function of awareness and cardiac phase"
   ],
   "metadata": {
    "collapsed": false
   },
   "id": "e10ec237cac4acac"
  },
  {
   "cell_type": "code",
   "execution_count": 113,
   "outputs": [],
   "source": [
    "df_pivot_rsp=df_filt.pivot_table(index=['g_num','awareness','rsp_phase'],values=['RT'])\n",
    "df_pivot_rsp.reset_index(inplace=True)"
   ],
   "metadata": {
    "collapsed": false,
    "ExecuteTime": {
     "end_time": "2024-04-29T15:06:51.278145Z",
     "start_time": "2024-04-29T15:06:51.201837Z"
    }
   },
   "id": "61afa27858309842"
  },
  {
   "cell_type": "code",
   "execution_count": 115,
   "outputs": [
    {
     "data": {
      "text/plain": "<Axes: xlabel='awareness', ylabel='RT'>"
     },
     "execution_count": 115,
     "metadata": {},
     "output_type": "execute_result"
    },
    {
     "data": {
      "text/plain": "<Figure size 1000x700 with 4 Axes>",
      "image/png": "[encoded data removed]"
     },
     "metadata": {},
     "output_type": "display_data"
    }
   ],
   "source": [
    "fig,((ax1,ax2),(ax3,ax4))=plt.subplots(2,2,figsize=(10,7))\n",
    "sns.barplot(data=df_pivot_card,y='RT',x='cardiac_phase',hue='awareness',ax=ax1)\n",
    "sns.barplot(data=df_pivot_card,y='RT',x='awareness',hue='cardiac_phase',ax=ax2)\n",
    "sns.barplot(data=df_pivot_rsp,y='RT',x='rsp_phase',hue='awareness',ax=ax3)\n",
    "sns.barplot(data=df_pivot_rsp,y='RT',x='awareness',hue='rsp_phase',ax=ax4)"
   ],
   "metadata": {
    "collapsed": false,
    "ExecuteTime": {
     "end_time": "2024-04-29T15:07:47.737026Z",
     "start_time": "2024-04-29T15:07:47.183825Z"
    }
   },
   "id": "a765492ad07254b6"
  },
  {
   "cell_type": "code",
   "execution_count": 114,
   "outputs": [
    {
     "name": "stderr",
     "output_type": "stream",
     "text": [
      "/opt/anaconda3/envs/mne/lib/python3.12/site-packages/pingouin/distribution.py:507: FutureWarning: DataFrame.groupby with axis=1 is deprecated. Do `frame.T.groupby(...)` without axis instead.\n",
      "  data.groupby(level=1, axis=1, observed=True, group_keys=False)\n",
      "/opt/anaconda3/envs/mne/lib/python3.12/site-packages/pingouin/distribution.py:508: FutureWarning: DataFrameGroupBy.diff with axis=1 is deprecated and will be removed in a future version. Operate on the un-grouped DataFrame instead\n",
      "  .diff(axis=1)\n"
     ]
    },
    {
     "data": {
      "text/plain": "                  Source            SS  ddof1  ddof2            MS          F  \\\n0              rsp_phase  6.259029e+02      1     29  6.259029e+02   0.873539   \n1              awareness  1.181552e+06      1     29  1.181552e+06  22.026659   \n2  rsp_phase * awareness  1.405416e+02      1     29  1.405416e+02   0.240074   \n\n      p-unc  p-GG-corr       ng2  eps  \n0  0.357695   0.357695  0.000072  1.0  \n1  0.000059   0.000059  0.119251  1.0  \n2  0.627839   0.627839  0.000016  1.0  ",
      "text/html": "<div>\n<style scoped>\n    .dataframe tbody tr th:only-of-type {\n        vertical-align: middle;\n    }\n\n    .dataframe tbody tr th {\n        vertical-align: top;\n    }\n\n    .dataframe thead th {\n        text-align: right;\n    }\n</style>\n<table border=\"1\" class=\"dataframe\">\n  <thead>\n    <tr style=\"text-align: right;\">\n      <th></th>\n      <th>Source</th>\n      <th>SS</th>\n      <th>ddof1</th>\n      <th>ddof2</th>\n      <th>MS</th>\n      <th>F</th>\n      <th>p-unc</th>\n      <th>p-GG-corr</th>\n      <th>ng2</th>\n      <th>eps</th>\n    </tr>\n  </thead>\n  <tbody>\n    <tr>\n      <th>0</th>\n      <td>rsp_phase</td>\n      <td>6.259029e+02</td>\n      <td>1</td>\n      <td>29</td>\n      <td>6.259029e+02</td>\n      <td>0.873539</td>\n      <td>0.357695</td>\n      <td>0.357695</td>\n      <td>0.000072</td>\n      <td>1.0</td>\n    </tr>\n    <tr>\n      <th>1</th>\n      <td>awareness</td>\n      <td>1.181552e+06</td>\n      <td>1</td>\n      <td>29</td>\n      <td>1.181552e+06</td>\n      <td>22.026659</td>\n      <td>0.000059</td>\n      <td>0.000059</td>\n      <td>0.119251</td>\n      <td>1.0</td>\n    </tr>\n    <tr>\n      <th>2</th>\n      <td>rsp_phase * awareness</td>\n      <td>1.405416e+02</td>\n      <td>1</td>\n      <td>29</td>\n      <td>1.405416e+02</td>\n      <td>0.240074</td>\n      <td>0.627839</td>\n      <td>0.627839</td>\n      <td>0.000016</td>\n      <td>1.0</td>\n    </tr>\n  </tbody>\n</table>\n</div>"
     },
     "execution_count": 114,
     "metadata": {},
     "output_type": "execute_result"
    }
   ],
   "source": [
    "pg.rm_anova(data=df_pivot_rsp,dv='RT',within=['rsp_phase','awareness'],subject='g_num')"
   ],
   "metadata": {
    "collapsed": false,
    "ExecuteTime": {
     "end_time": "2024-04-29T15:06:58.855639Z",
     "start_time": "2024-04-29T15:06:58.828807Z"
    }
   },
   "id": "dfd3e78c88e66792"
  },
  {
   "cell_type": "code",
   "execution_count": 17,
   "outputs": [
    {
     "data": {
      "text/plain": "                Contrast rsp_phase      A        B Paired  Parametric  \\\n0              rsp_phase         -    exh      inh   True        True   \n1              awareness         -  aware  unaware   True        True   \n2  rsp_phase * awareness       exh  aware  unaware   True        True   \n3  rsp_phase * awareness       inh  aware  unaware   True        True   \n\n          T   dof alternative         p-unc       BF10    hedges  \n0  1.303539  29.0   two-sided  2.026450e-01      0.419  0.070715  \n1 -5.933951  29.0   two-sided  1.909509e-06    9695.27 -0.905781  \n2 -5.083836  29.0   two-sided  2.009297e-05   1115.221 -0.862432  \n3 -6.463918  29.0   two-sided  4.498530e-07  3.701e+04 -0.918588  ",
      "text/html": "<div>\n<style scoped>\n    .dataframe tbody tr th:only-of-type {\n        vertical-align: middle;\n    }\n\n    .dataframe tbody tr th {\n        vertical-align: top;\n    }\n\n    .dataframe thead th {\n        text-align: right;\n    }\n</style>\n<table border=\"1\" class=\"dataframe\">\n  <thead>\n    <tr style=\"text-align: right;\">\n      <th></th>\n      <th>Contrast</th>\n      <th>rsp_phase</th>\n      <th>A</th>\n      <th>B</th>\n      <th>Paired</th>\n      <th>Parametric</th>\n      <th>T</th>\n      <th>dof</th>\n      <th>alternative</th>\n      <th>p-unc</th>\n      <th>BF10</th>\n      <th>hedges</th>\n    </tr>\n  </thead>\n  <tbody>\n    <tr>\n      <th>0</th>\n      <td>rsp_phase</td>\n      <td>-</td>\n      <td>exh</td>\n      <td>inh</td>\n      <td>True</td>\n      <td>True</td>\n      <td>1.303539</td>\n      <td>29.0</td>\n      <td>two-sided</td>\n      <td>2.026450e-01</td>\n      <td>0.419</td>\n      <td>0.070715</td>\n    </tr>\n    <tr>\n      <th>1</th>\n      <td>awareness</td>\n      <td>-</td>\n      <td>aware</td>\n      <td>unaware</td>\n      <td>True</td>\n      <td>True</td>\n      <td>-5.933951</td>\n      <td>29.0</td>\n      <td>two-sided</td>\n      <td>1.909509e-06</td>\n      <td>9695.27</td>\n      <td>-0.905781</td>\n    </tr>\n    <tr>\n      <th>2</th>\n      <td>rsp_phase * awareness</td>\n      <td>exh</td>\n      <td>aware</td>\n      <td>unaware</td>\n      <td>True</td>\n      <td>True</td>\n      <td>-5.083836</td>\n      <td>29.0</td>\n      <td>two-sided</td>\n      <td>2.009297e-05</td>\n      <td>1115.221</td>\n      <td>-0.862432</td>\n    </tr>\n    <tr>\n      <th>3</th>\n      <td>rsp_phase * awareness</td>\n      <td>inh</td>\n      <td>aware</td>\n      <td>unaware</td>\n      <td>True</td>\n      <td>True</td>\n      <td>-6.463918</td>\n      <td>29.0</td>\n      <td>two-sided</td>\n      <td>4.498530e-07</td>\n      <td>3.701e+04</td>\n      <td>-0.918588</td>\n    </tr>\n  </tbody>\n</table>\n</div>"
     },
     "execution_count": 17,
     "metadata": {},
     "output_type": "execute_result"
    }
   ],
   "source": [
    "pg.pairwise_tests(data=df_pivot_rsp,dv='RT',within=['rsp_phase','awareness'],subject='g_num')"
   ],
   "metadata": {
    "collapsed": false,
    "ExecuteTime": {
     "start_time": "2023-05-10T13:49:24.530841Z",
     "end_time": "2023-05-10T13:49:24.654586Z"
    }
   },
   "id": "381e3e75aeea02e"
  },
  {
   "cell_type": "code",
   "execution_count": 18,
   "outputs": [
    {
     "data": {
      "text/plain": "                Contrast awareness      A        B Paired  Parametric  \\\n0              awareness         -  aware  unaware   True        True   \n1              rsp_phase         -    exh      inh   True        True   \n2  awareness * rsp_phase     aware    exh      inh   True        True   \n3  awareness * rsp_phase   unaware    exh      inh   True        True   \n\n          T   dof alternative     p-unc     BF10    hedges  \n0 -5.933951  29.0   two-sided  0.000002  9695.27 -0.905781  \n1  1.303539  29.0   two-sided  0.202645    0.419  0.070715  \n2  0.908613  29.0   two-sided  0.371044    0.284  0.119316  \n3  1.016883  29.0   two-sided  0.317618    0.312  0.043734  ",
      "text/html": "<div>\n<style scoped>\n    .dataframe tbody tr th:only-of-type {\n        vertical-align: middle;\n    }\n\n    .dataframe tbody tr th {\n        vertical-align: top;\n    }\n\n    .dataframe thead th {\n        text-align: right;\n    }\n</style>\n<table border=\"1\" class=\"dataframe\">\n  <thead>\n    <tr style=\"text-align: right;\">\n      <th></th>\n      <th>Contrast</th>\n      <th>awareness</th>\n      <th>A</th>\n      <th>B</th>\n      <th>Paired</th>\n      <th>Parametric</th>\n      <th>T</th>\n      <th>dof</th>\n      <th>alternative</th>\n      <th>p-unc</th>\n      <th>BF10</th>\n      <th>hedges</th>\n    </tr>\n  </thead>\n  <tbody>\n    <tr>\n      <th>0</th>\n      <td>awareness</td>\n      <td>-</td>\n      <td>aware</td>\n      <td>unaware</td>\n      <td>True</td>\n      <td>True</td>\n      <td>-5.933951</td>\n      <td>29.0</td>\n      <td>two-sided</td>\n      <td>0.000002</td>\n      <td>9695.27</td>\n      <td>-0.905781</td>\n    </tr>\n    <tr>\n      <th>1</th>\n      <td>rsp_phase</td>\n      <td>-</td>\n      <td>exh</td>\n      <td>inh</td>\n      <td>True</td>\n      <td>True</td>\n      <td>1.303539</td>\n      <td>29.0</td>\n      <td>two-sided</td>\n      <td>0.202645</td>\n      <td>0.419</td>\n      <td>0.070715</td>\n    </tr>\n    <tr>\n      <th>2</th>\n      <td>awareness * rsp_phase</td>\n      <td>aware</td>\n      <td>exh</td>\n      <td>inh</td>\n      <td>True</td>\n      <td>True</td>\n      <td>0.908613</td>\n      <td>29.0</td>\n      <td>two-sided</td>\n      <td>0.371044</td>\n      <td>0.284</td>\n      <td>0.119316</td>\n    </tr>\n    <tr>\n      <th>3</th>\n      <td>awareness * rsp_phase</td>\n      <td>unaware</td>\n      <td>exh</td>\n      <td>inh</td>\n      <td>True</td>\n      <td>True</td>\n      <td>1.016883</td>\n      <td>29.0</td>\n      <td>two-sided</td>\n      <td>0.317618</td>\n      <td>0.312</td>\n      <td>0.043734</td>\n    </tr>\n  </tbody>\n</table>\n</div>"
     },
     "execution_count": 18,
     "metadata": {},
     "output_type": "execute_result"
    }
   ],
   "source": [
    "pg.pairwise_tests(data=df_pivot_rsp,dv='RT',within=['awareness','rsp_phase'],subject='g_num')"
   ],
   "metadata": {
    "collapsed": false,
    "ExecuteTime": {
     "start_time": "2023-05-10T13:49:36.587652Z",
     "end_time": "2023-05-10T13:49:36.736517Z"
    }
   },
   "id": "6de42fc5e59a2c42"
  },
  {
   "cell_type": "code",
   "execution_count": 19,
   "outputs": [
    {
     "data": {
      "text/plain": "<AxesSubplot:xlabel='awareness', ylabel='RT'>"
     },
     "execution_count": 19,
     "metadata": {},
     "output_type": "execute_result"
    },
    {
     "data": {
      "text/plain": "<Figure size 360x504 with 2 Axes>",
      "image/png": "[encoded data removed]"
     },
     "metadata": {
      "needs_background": "light"
     },
     "output_type": "display_data"
    }
   ],
   "source": [
    "fig,[ax1,ax2]=plt.subplots(2,figsize=(5,7))\n",
    "sns.barplot(data=df_pivot_rsp,y='RT',x='rsp_phase',hue='awareness',ax=ax1)\n",
    "sns.barplot(data=df_pivot_rsp,y='RT',x='awareness',hue='rsp_phase',ax=ax2)"
   ],
   "metadata": {
    "collapsed": false,
    "ExecuteTime": {
     "start_time": "2023-05-10T13:49:38.047678Z",
     "end_time": "2023-05-10T13:49:38.480721Z"
    }
   },
   "id": "83c9c37f187cb585"
  },
  {
   "cell_type": "markdown",
   "source": [
    "# Figure for article"
   ],
   "metadata": {
    "collapsed": false
   },
   "id": "515d928d2ddd991f"
  },
  {
   "cell_type": "code",
   "execution_count": 136,
   "outputs": [],
   "source": [
    "dv='RT'\n",
    "phy_phase='rsp_phase'\n",
    "dict_awa_list={}\n",
    "\n",
    "if phy_phase=='rsp_phase':\n",
    "    pivot_tab=df_pivot_rsp.copy()\n",
    "else:\n",
    "    pivot_tab=df_pivot_card.copy()\n",
    "\n",
    "for awa in pivot_tab['awareness'].unique():\n",
    "\n",
    "\n",
    "    awa_df=pivot_tab[pivot_tab['awareness']==awa][[dv,phy_phase]]\n",
    "    for card in pivot_tab[phy_phase].unique():\n",
    "        awa_card=awa_df[awa_df[phy_phase]==card]\n",
    "        mean_card_awa=awa_card[dv].mean()\n",
    "        sem_card_awa=awa_card[dv].sem()\n",
    "        dict_awa_list[f'{awa}_{card}']={'mean':mean_card_awa,'sem':sem_card_awa}\n",
    "        #dict_awa_list.append(dict_awa)\n",
    "\n"
   ],
   "metadata": {
    "collapsed": false,
    "ExecuteTime": {
     "end_time": "2024-04-29T15:35:52.579207Z",
     "start_time": "2024-04-29T15:35:52.559571Z"
    }
   },
   "id": "776394a6b476d3f6"
  },
  {
   "cell_type": "code",
   "execution_count": 137,
   "outputs": [],
   "source": [
    "%matplotlib qt\n",
    "if phy_phase=='rsp_phase':\n",
    "    color_list=['g','tab:pink','g','tab:pink']\n",
    "    facecolor_list=['w','w','g','tab:pink']\n",
    "    xticklab=['Aware', 'Unaware']\n",
    "    xlab='Awareness'\n",
    "    cond_list=['aware_inh','aware_exh','unaware_inh','unaware_exh']\n",
    "else:\n",
    "    color_list=['tab:orange','b','tab:orange','b']\n",
    "    facecolor_list=['w','w','tab:orange','b']\n",
    "    xticklab=['Aware', 'Unaware']\n",
    "    xlab='Awareness'\n",
    "    cond_list=['aware_sys','aware_dia','unaware_sys','unaware_dia']\n",
    "\n",
    "\n",
    "hatch_list=['///','///','','']\n",
    "adj_list=[0,-0.4,-0.45,-0.85]\n",
    "#color_list=['tab:orange','tab:orange','b','b']\n",
    "#facecolor_list=['w','tab:orange','w','b']\n",
    "\n",
    "alpha_list=[1,0.6,1,0.6]\n",
    "x=0\n",
    "fig,ax=plt.subplots(figsize=(9,7))\n",
    "for cond,color,hatch,adj,facecolor,alpha in zip(cond_list,color_list,hatch_list,adj_list,facecolor_list,alpha_list):\n",
    "\n",
    "\n",
    "    ax.bar(x=x+adj,height=[dict_awa_list[cond]['mean']],facecolor=facecolor,yerr=[dict_awa_list[cond]['sem']],\n",
    "            edgecolor=color,hatch=hatch,linewidth=2.5,capsize=(2),ecolor='0.3',\n",
    "            width=0.5,label=cond.split('_')[0]+' '+cond.split('_')[1],alpha=alpha)\n",
    "    x+=1\n",
    "\n",
    "\n",
    "\n",
    "plt.xticks([0.3,1.85],labels=xticklab,size='x-large')\n",
    "plt.xlabel(xlab,size='x-large')\n",
    "\n",
    "ax.spines['top'].set_visible(False)\n",
    "ax.spines['right'].set_visible(False)\n",
    "\n",
    "#plt.title('Interaction effect of cadiac and awaraness condition in the P1')\n",
    "plt.legend(bbox_to_anchor=(1,1),fontsize='x-large')\n",
    "\n",
    "fig=plt.gcf()\n"
   ],
   "metadata": {
    "collapsed": false,
    "ExecuteTime": {
     "end_time": "2024-04-29T15:35:53.531829Z",
     "start_time": "2024-04-29T15:35:53.498480Z"
    }
   },
   "id": "c89fa82e3a03de2d"
  },
  {
   "cell_type": "code",
   "execution_count": 138,
   "outputs": [],
   "source": [
    "fig=plt.gcf()"
   ],
   "metadata": {
    "collapsed": false,
    "ExecuteTime": {
     "end_time": "2024-04-29T15:35:56.663288Z",
     "start_time": "2024-04-29T15:35:56.649862Z"
    }
   },
   "id": "f418c251ef39e7d0"
  },
  {
   "cell_type": "code",
   "outputs": [
    {
     "data": {
      "text/plain": "'/Volumes/BBC/BBC/WP1/data/EEG/tsk'"
     },
     "execution_count": 135,
     "metadata": {},
     "output_type": "execute_result"
    }
   ],
   "source": [
    "os.getcwd()"
   ],
   "metadata": {
    "collapsed": false,
    "ExecuteTime": {
     "end_time": "2024-04-29T15:35:47.671466Z",
     "start_time": "2024-04-29T15:35:47.552315Z"
    }
   },
   "id": "4a5a9d1a96c2c0a5",
   "execution_count": 135
  },
  {
   "cell_type": "code",
   "execution_count": 139,
   "outputs": [],
   "source": [
    "\n",
    "fig.savefig(f'ana/results_report/images/barplots/tsk_o_RT_{phy_phase}.svg')"
   ],
   "metadata": {
    "collapsed": false,
    "ExecuteTime": {
     "end_time": "2024-04-29T15:36:01.340651Z",
     "start_time": "2024-04-29T15:36:01.222522Z"
    }
   },
   "id": "89eefec8b257b33"
  },
  {
   "cell_type": "markdown",
   "id": "0a994e64",
   "metadata": {},
   "source": []
  }
 ],
 "metadata": {
  "kernelspec": {
   "name": "mne",
   "language": "python",
   "display_name": "Python (mne)"
  },
  "language_info": {
   "codemirror_mode": {
    "name": "ipython",
    "version": 3
   },
   "file_extension": ".py",
   "mimetype": "text/x-python",
   "name": "python",
   "nbconvert_exporter": "python",
   "pygments_lexer": "ipython3",
   "version": "3.9.13"
  }
 },
 "nbformat": 4,
 "nbformat_minor": 5
}
